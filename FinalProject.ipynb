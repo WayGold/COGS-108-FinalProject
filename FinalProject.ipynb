{
 "cells": [
  {
   "cell_type": "markdown",
   "metadata": {},
   "source": [
    "# COGS 108 Final Project\n",
    "\n",
    "Team Members: Thalal Cassim, Kevin Chen, Yongji Shen, Ansuman Somasundaram, Wei Zeng"
   ]
  },
  {
   "cell_type": "markdown",
   "metadata": {},
   "source": [
    "## Grading Rubric For Ur Reference\n",
    "https://github.com/COGS108/Projects/blob/master/FinalProj_Checklist.pdf"
   ]
  },
  {
   "cell_type": "markdown",
   "metadata": {},
   "source": [
    "# Introduction and Background"
   ]
  },
  {
   "cell_type": "markdown",
   "metadata": {},
   "source": [
    "# Data Description"
   ]
  },
  {
   "cell_type": "markdown",
   "metadata": {},
   "source": [
    "# Data Cleaning & Pre-processing"
   ]
  },
  {
   "cell_type": "code",
<<<<<<< HEAD
   "execution_count": 16,
   "metadata": {
    "collapsed": true
   },
=======
   "execution_count": 1,
   "metadata": {},
>>>>>>> 0ad731e72874afbaec6700f806622e38ad0bec22
   "outputs": [],
   "source": [
    "import numpy as np\n",
    "import pandas as pd\n",
    "import matplotlib.pyplot as plt\n",
    "import seaborn as sns\n",
    "%matplotlib inline"
   ]
  },
  {
   "cell_type": "code",
   "execution_count": 2,
<<<<<<< HEAD
   "metadata": {
    "collapsed": true
   },
=======
   "metadata": {},
>>>>>>> 0ad731e72874afbaec6700f806622e38ad0bec22
   "outputs": [],
   "source": [
    "# read from data set\n",
    "suicide = pd.read_csv(\"./datasets/suicide-rates-overview-1985-to-2016.csv\")"
   ]
  },
  {
   "cell_type": "code",
   "execution_count": 3,
<<<<<<< HEAD
   "metadata": {
    "collapsed": true
   },
=======
   "metadata": {},
>>>>>>> 0ad731e72874afbaec6700f806622e38ad0bec22
   "outputs": [],
   "source": [
    "#select data from those following countries from our data set\n",
    "selected = [\"Canada\",\"United States\",\"United Kingdom\",\"Australia\",'Argentina',\"Thailand\",\"Sri Lanka\",\"South Africa\"]\n",
    "tmp = list()   \n",
    "for i in (suicide.index):\n",
    "    for country in selected:\n",
    "        if suicide.loc[i,\"country\"]==country:\n",
    "            tmp.append(suicide.loc[i].tolist())\n",
    "df = pd.DataFrame(columns = suicide.columns)\n",
    "for i in tmp:\n",
    "    df = df.append(pd.Series(i, index=suicide.columns), ignore_index=True)"
   ]
  },
  {
   "cell_type": "code",
   "execution_count": 4,
<<<<<<< HEAD
   "metadata": {
    "collapsed": true
   },
=======
   "metadata": {},
>>>>>>> 0ad731e72874afbaec6700f806622e38ad0bec22
   "outputs": [],
   "source": [
    "#suicide.isnull().any()\n",
    "suicideHDI = suicide.dropna()\n",
    "\n",
    "dfHDI = df.dropna()"
   ]
  },
  {
   "cell_type": "code",
   "execution_count": 5,
<<<<<<< HEAD
   "metadata": {
    "collapsed": true
   },
=======
   "metadata": {},
>>>>>>> 0ad731e72874afbaec6700f806622e38ad0bec22
   "outputs": [],
   "source": [
    "#sex,age,dgc,and hdi for all countries\n",
    "suicide_sex = suicide[['country','year','sex','suicides_no','population']]\n",
    "suicide_age = suicide[['country','year','age','suicides_no','population']]\n",
    "suicide_gdp = suicide[['country','year','suicides_no','population','suicides/100k pop',' gdp_for_year ($) ','gdp_per_capita ($)']]\n",
    "suicide_hdi = suicideHDI[['country','year','suicides_no','suicides/100k pop','population','HDI for year']]"
   ]
  },
  {
   "cell_type": "code",
   "execution_count": 6,
<<<<<<< HEAD
   "metadata": {
    "collapsed": true
   },
=======
   "metadata": {},
>>>>>>> 0ad731e72874afbaec6700f806622e38ad0bec22
   "outputs": [],
   "source": [
    "#sex,age,dgc,and hdi for selected countries \n",
    "#(\"Canada\",\"United States\",\"United Kingdom\",\"Australia\",'Argentina',\"Thailand\",\"Sri Lanka\",\"South Africa\")\n",
    "df_sex = df[['country','year','age','sex','suicides_no','population']]\n",
    "df_age = df[['country','year','age','suicides_no','population']]\n",
    "df_gdp = df[['country','year','suicides_no','population','suicides/100k pop',' gdp_for_year ($) ','gdp_per_capita ($)']]\n",
    "df_hdi = dfHDI[['country','year','suicides_no','suicides/100k pop','population','HDI for year']]"
   ]
  },
  {
   "cell_type": "code",
<<<<<<< HEAD
   "execution_count": 27,
   "metadata": {},
   "outputs": [],
=======
   "execution_count": 7,
   "metadata": {},
   "outputs": [
    {
     "name": "stdout",
     "output_type": "stream",
     "text": [
      "63893\n",
      "18326\n"
     ]
    },
    {
     "data": {
      "text/html": [
       "<div>\n",
       "<style scoped>\n",
       "    .dataframe tbody tr th:only-of-type {\n",
       "        vertical-align: middle;\n",
       "    }\n",
       "\n",
       "    .dataframe tbody tr th {\n",
       "        vertical-align: top;\n",
       "    }\n",
       "\n",
       "    .dataframe thead th {\n",
       "        text-align: right;\n",
       "    }\n",
       "</style>\n",
       "<table border=\"1\" class=\"dataframe\">\n",
       "  <thead>\n",
       "    <tr style=\"text-align: right;\">\n",
       "      <th></th>\n",
       "      <th>country</th>\n",
       "      <th>year</th>\n",
       "      <th>age</th>\n",
       "      <th>sex</th>\n",
       "      <th>suicides_no</th>\n",
       "      <th>population</th>\n",
       "    </tr>\n",
       "  </thead>\n",
       "  <tbody>\n",
       "    <tr>\n",
       "      <th>0</th>\n",
       "      <td>Argentina</td>\n",
       "      <td>1985</td>\n",
       "      <td>75+ years</td>\n",
       "      <td>male</td>\n",
       "      <td>202</td>\n",
       "      <td>363000</td>\n",
       "    </tr>\n",
       "    <tr>\n",
       "      <th>1</th>\n",
       "      <td>Argentina</td>\n",
       "      <td>1985</td>\n",
       "      <td>55-74 years</td>\n",
       "      <td>male</td>\n",
       "      <td>485</td>\n",
       "      <td>1997000</td>\n",
       "    </tr>\n",
       "    <tr>\n",
       "      <th>2</th>\n",
       "      <td>Argentina</td>\n",
       "      <td>1985</td>\n",
       "      <td>35-54 years</td>\n",
       "      <td>male</td>\n",
       "      <td>414</td>\n",
       "      <td>3346300</td>\n",
       "    </tr>\n",
       "    <tr>\n",
       "      <th>3</th>\n",
       "      <td>Argentina</td>\n",
       "      <td>1985</td>\n",
       "      <td>55-74 years</td>\n",
       "      <td>female</td>\n",
       "      <td>210</td>\n",
       "      <td>2304000</td>\n",
       "    </tr>\n",
       "    <tr>\n",
       "      <th>4</th>\n",
       "      <td>Argentina</td>\n",
       "      <td>1985</td>\n",
       "      <td>25-34 years</td>\n",
       "      <td>male</td>\n",
       "      <td>177</td>\n",
       "      <td>2234200</td>\n",
       "    </tr>\n",
       "    <tr>\n",
       "      <th>5</th>\n",
       "      <td>Argentina</td>\n",
       "      <td>1985</td>\n",
       "      <td>75+ years</td>\n",
       "      <td>female</td>\n",
       "      <td>41</td>\n",
       "      <td>537000</td>\n",
       "    </tr>\n",
       "    <tr>\n",
       "      <th>6</th>\n",
       "      <td>Argentina</td>\n",
       "      <td>1985</td>\n",
       "      <td>15-24 years</td>\n",
       "      <td>male</td>\n",
       "      <td>156</td>\n",
       "      <td>2415200</td>\n",
       "    </tr>\n",
       "    <tr>\n",
       "      <th>7</th>\n",
       "      <td>Argentina</td>\n",
       "      <td>1985</td>\n",
       "      <td>35-54 years</td>\n",
       "      <td>female</td>\n",
       "      <td>142</td>\n",
       "      <td>3355300</td>\n",
       "    </tr>\n",
       "    <tr>\n",
       "      <th>8</th>\n",
       "      <td>Argentina</td>\n",
       "      <td>1985</td>\n",
       "      <td>25-34 years</td>\n",
       "      <td>female</td>\n",
       "      <td>65</td>\n",
       "      <td>2185200</td>\n",
       "    </tr>\n",
       "    <tr>\n",
       "      <th>9</th>\n",
       "      <td>Argentina</td>\n",
       "      <td>1985</td>\n",
       "      <td>15-24 years</td>\n",
       "      <td>female</td>\n",
       "      <td>69</td>\n",
       "      <td>2354200</td>\n",
       "    </tr>\n",
       "    <tr>\n",
       "      <th>10</th>\n",
       "      <td>Argentina</td>\n",
       "      <td>1985</td>\n",
       "      <td>5-14 years</td>\n",
       "      <td>male</td>\n",
       "      <td>16</td>\n",
       "      <td>3044200</td>\n",
       "    </tr>\n",
       "    <tr>\n",
       "      <th>11</th>\n",
       "      <td>Argentina</td>\n",
       "      <td>1985</td>\n",
       "      <td>5-14 years</td>\n",
       "      <td>female</td>\n",
       "      <td>11</td>\n",
       "      <td>2955200</td>\n",
       "    </tr>\n",
       "    <tr>\n",
       "      <th>12</th>\n",
       "      <td>Argentina</td>\n",
       "      <td>1986</td>\n",
       "      <td>75+ years</td>\n",
       "      <td>male</td>\n",
       "      <td>230</td>\n",
       "      <td>365000</td>\n",
       "    </tr>\n",
       "    <tr>\n",
       "      <th>13</th>\n",
       "      <td>Argentina</td>\n",
       "      <td>1986</td>\n",
       "      <td>55-74 years</td>\n",
       "      <td>male</td>\n",
       "      <td>530</td>\n",
       "      <td>2008300</td>\n",
       "    </tr>\n",
       "    <tr>\n",
       "      <th>14</th>\n",
       "      <td>Argentina</td>\n",
       "      <td>1986</td>\n",
       "      <td>35-54 years</td>\n",
       "      <td>male</td>\n",
       "      <td>478</td>\n",
       "      <td>3365200</td>\n",
       "    </tr>\n",
       "    <tr>\n",
       "      <th>15</th>\n",
       "      <td>Argentina</td>\n",
       "      <td>1986</td>\n",
       "      <td>25-34 years</td>\n",
       "      <td>male</td>\n",
       "      <td>209</td>\n",
       "      <td>2246900</td>\n",
       "    </tr>\n",
       "    <tr>\n",
       "      <th>16</th>\n",
       "      <td>Argentina</td>\n",
       "      <td>1986</td>\n",
       "      <td>75+ years</td>\n",
       "      <td>female</td>\n",
       "      <td>48</td>\n",
       "      <td>540200</td>\n",
       "    </tr>\n",
       "    <tr>\n",
       "      <th>17</th>\n",
       "      <td>Argentina</td>\n",
       "      <td>1986</td>\n",
       "      <td>55-74 years</td>\n",
       "      <td>female</td>\n",
       "      <td>201</td>\n",
       "      <td>2317100</td>\n",
       "    </tr>\n",
       "    <tr>\n",
       "      <th>18</th>\n",
       "      <td>Argentina</td>\n",
       "      <td>1986</td>\n",
       "      <td>15-24 years</td>\n",
       "      <td>male</td>\n",
       "      <td>186</td>\n",
       "      <td>2428900</td>\n",
       "    </tr>\n",
       "    <tr>\n",
       "      <th>19</th>\n",
       "      <td>Argentina</td>\n",
       "      <td>1986</td>\n",
       "      <td>35-54 years</td>\n",
       "      <td>female</td>\n",
       "      <td>188</td>\n",
       "      <td>3374300</td>\n",
       "    </tr>\n",
       "    <tr>\n",
       "      <th>20</th>\n",
       "      <td>Argentina</td>\n",
       "      <td>1986</td>\n",
       "      <td>25-34 years</td>\n",
       "      <td>female</td>\n",
       "      <td>96</td>\n",
       "      <td>2197600</td>\n",
       "    </tr>\n",
       "    <tr>\n",
       "      <th>21</th>\n",
       "      <td>Argentina</td>\n",
       "      <td>1986</td>\n",
       "      <td>15-24 years</td>\n",
       "      <td>female</td>\n",
       "      <td>101</td>\n",
       "      <td>2367600</td>\n",
       "    </tr>\n",
       "    <tr>\n",
       "      <th>22</th>\n",
       "      <td>Argentina</td>\n",
       "      <td>1986</td>\n",
       "      <td>5-14 years</td>\n",
       "      <td>male</td>\n",
       "      <td>10</td>\n",
       "      <td>3061400</td>\n",
       "    </tr>\n",
       "    <tr>\n",
       "      <th>23</th>\n",
       "      <td>Argentina</td>\n",
       "      <td>1986</td>\n",
       "      <td>5-14 years</td>\n",
       "      <td>female</td>\n",
       "      <td>7</td>\n",
       "      <td>2971900</td>\n",
       "    </tr>\n",
       "    <tr>\n",
       "      <th>24</th>\n",
       "      <td>Argentina</td>\n",
       "      <td>1987</td>\n",
       "      <td>75+ years</td>\n",
       "      <td>male</td>\n",
       "      <td>200</td>\n",
       "      <td>369800</td>\n",
       "    </tr>\n",
       "    <tr>\n",
       "      <th>25</th>\n",
       "      <td>Argentina</td>\n",
       "      <td>1987</td>\n",
       "      <td>55-74 years</td>\n",
       "      <td>male</td>\n",
       "      <td>532</td>\n",
       "      <td>2034500</td>\n",
       "    </tr>\n",
       "    <tr>\n",
       "      <th>26</th>\n",
       "      <td>Argentina</td>\n",
       "      <td>1987</td>\n",
       "      <td>35-54 years</td>\n",
       "      <td>male</td>\n",
       "      <td>482</td>\n",
       "      <td>3409100</td>\n",
       "    </tr>\n",
       "    <tr>\n",
       "      <th>27</th>\n",
       "      <td>Argentina</td>\n",
       "      <td>1987</td>\n",
       "      <td>75+ years</td>\n",
       "      <td>female</td>\n",
       "      <td>57</td>\n",
       "      <td>547000</td>\n",
       "    </tr>\n",
       "    <tr>\n",
       "      <th>28</th>\n",
       "      <td>Argentina</td>\n",
       "      <td>1987</td>\n",
       "      <td>55-74 years</td>\n",
       "      <td>female</td>\n",
       "      <td>224</td>\n",
       "      <td>2347300</td>\n",
       "    </tr>\n",
       "    <tr>\n",
       "      <th>29</th>\n",
       "      <td>Argentina</td>\n",
       "      <td>1987</td>\n",
       "      <td>25-34 years</td>\n",
       "      <td>male</td>\n",
       "      <td>192</td>\n",
       "      <td>2276200</td>\n",
       "    </tr>\n",
       "    <tr>\n",
       "      <th>...</th>\n",
       "      <td>...</td>\n",
       "      <td>...</td>\n",
       "      <td>...</td>\n",
       "      <td>...</td>\n",
       "      <td>...</td>\n",
       "      <td>...</td>\n",
       "    </tr>\n",
       "    <tr>\n",
       "      <th>2500</th>\n",
       "      <td>United States</td>\n",
       "      <td>2013</td>\n",
       "      <td>55-74 years</td>\n",
       "      <td>female</td>\n",
       "      <td>2484</td>\n",
       "      <td>33229667</td>\n",
       "    </tr>\n",
       "    <tr>\n",
       "      <th>2501</th>\n",
       "      <td>United States</td>\n",
       "      <td>2013</td>\n",
       "      <td>25-34 years</td>\n",
       "      <td>female</td>\n",
       "      <td>1285</td>\n",
       "      <td>20951958</td>\n",
       "    </tr>\n",
       "    <tr>\n",
       "      <th>2502</th>\n",
       "      <td>United States</td>\n",
       "      <td>2013</td>\n",
       "      <td>15-24 years</td>\n",
       "      <td>female</td>\n",
       "      <td>975</td>\n",
       "      <td>21698877</td>\n",
       "    </tr>\n",
       "    <tr>\n",
       "      <th>2503</th>\n",
       "      <td>United States</td>\n",
       "      <td>2013</td>\n",
       "      <td>75+ years</td>\n",
       "      <td>female</td>\n",
       "      <td>431</td>\n",
       "      <td>11486590</td>\n",
       "    </tr>\n",
       "    <tr>\n",
       "      <th>2504</th>\n",
       "      <td>United States</td>\n",
       "      <td>2013</td>\n",
       "      <td>5-14 years</td>\n",
       "      <td>male</td>\n",
       "      <td>252</td>\n",
       "      <td>21233001</td>\n",
       "    </tr>\n",
       "    <tr>\n",
       "      <th>2505</th>\n",
       "      <td>United States</td>\n",
       "      <td>2013</td>\n",
       "      <td>5-14 years</td>\n",
       "      <td>female</td>\n",
       "      <td>143</td>\n",
       "      <td>20308672</td>\n",
       "    </tr>\n",
       "    <tr>\n",
       "      <th>2506</th>\n",
       "      <td>United States</td>\n",
       "      <td>2014</td>\n",
       "      <td>75+ years</td>\n",
       "      <td>male</td>\n",
       "      <td>3106</td>\n",
       "      <td>7994948</td>\n",
       "    </tr>\n",
       "    <tr>\n",
       "      <th>2507</th>\n",
       "      <td>United States</td>\n",
       "      <td>2014</td>\n",
       "      <td>55-74 years</td>\n",
       "      <td>male</td>\n",
       "      <td>8961</td>\n",
       "      <td>31339875</td>\n",
       "    </tr>\n",
       "    <tr>\n",
       "      <th>2508</th>\n",
       "      <td>United States</td>\n",
       "      <td>2014</td>\n",
       "      <td>35-54 years</td>\n",
       "      <td>male</td>\n",
       "      <td>11455</td>\n",
       "      <td>41858354</td>\n",
       "    </tr>\n",
       "    <tr>\n",
       "      <th>2509</th>\n",
       "      <td>United States</td>\n",
       "      <td>2014</td>\n",
       "      <td>25-34 years</td>\n",
       "      <td>male</td>\n",
       "      <td>5222</td>\n",
       "      <td>21760455</td>\n",
       "    </tr>\n",
       "    <tr>\n",
       "      <th>2510</th>\n",
       "      <td>United States</td>\n",
       "      <td>2014</td>\n",
       "      <td>15-24 years</td>\n",
       "      <td>male</td>\n",
       "      <td>4089</td>\n",
       "      <td>22700273</td>\n",
       "    </tr>\n",
       "    <tr>\n",
       "      <th>2511</th>\n",
       "      <td>United States</td>\n",
       "      <td>2014</td>\n",
       "      <td>35-54 years</td>\n",
       "      <td>female</td>\n",
       "      <td>4018</td>\n",
       "      <td>41742299</td>\n",
       "    </tr>\n",
       "    <tr>\n",
       "      <th>2512</th>\n",
       "      <td>United States</td>\n",
       "      <td>2014</td>\n",
       "      <td>55-74 years</td>\n",
       "      <td>female</td>\n",
       "      <td>2676</td>\n",
       "      <td>34193742</td>\n",
       "    </tr>\n",
       "    <tr>\n",
       "      <th>2513</th>\n",
       "      <td>United States</td>\n",
       "      <td>2014</td>\n",
       "      <td>25-34 years</td>\n",
       "      <td>female</td>\n",
       "      <td>1347</td>\n",
       "      <td>21250636</td>\n",
       "    </tr>\n",
       "    <tr>\n",
       "      <th>2514</th>\n",
       "      <td>United States</td>\n",
       "      <td>2014</td>\n",
       "      <td>15-24 years</td>\n",
       "      <td>female</td>\n",
       "      <td>990</td>\n",
       "      <td>21691057</td>\n",
       "    </tr>\n",
       "    <tr>\n",
       "      <th>2515</th>\n",
       "      <td>United States</td>\n",
       "      <td>2014</td>\n",
       "      <td>75+ years</td>\n",
       "      <td>female</td>\n",
       "      <td>477</td>\n",
       "      <td>11616299</td>\n",
       "    </tr>\n",
       "    <tr>\n",
       "      <th>2516</th>\n",
       "      <td>United States</td>\n",
       "      <td>2014</td>\n",
       "      <td>5-14 years</td>\n",
       "      <td>male</td>\n",
       "      <td>277</td>\n",
       "      <td>21264881</td>\n",
       "    </tr>\n",
       "    <tr>\n",
       "      <th>2517</th>\n",
       "      <td>United States</td>\n",
       "      <td>2014</td>\n",
       "      <td>5-14 years</td>\n",
       "      <td>female</td>\n",
       "      <td>151</td>\n",
       "      <td>20336916</td>\n",
       "    </tr>\n",
       "    <tr>\n",
       "      <th>2518</th>\n",
       "      <td>United States</td>\n",
       "      <td>2015</td>\n",
       "      <td>75+ years</td>\n",
       "      <td>male</td>\n",
       "      <td>3171</td>\n",
       "      <td>8171136</td>\n",
       "    </tr>\n",
       "    <tr>\n",
       "      <th>2519</th>\n",
       "      <td>United States</td>\n",
       "      <td>2015</td>\n",
       "      <td>55-74 years</td>\n",
       "      <td>male</td>\n",
       "      <td>9068</td>\n",
       "      <td>32264697</td>\n",
       "    </tr>\n",
       "    <tr>\n",
       "      <th>2520</th>\n",
       "      <td>United States</td>\n",
       "      <td>2015</td>\n",
       "      <td>35-54 years</td>\n",
       "      <td>male</td>\n",
       "      <td>11634</td>\n",
       "      <td>41658010</td>\n",
       "    </tr>\n",
       "    <tr>\n",
       "      <th>2521</th>\n",
       "      <td>United States</td>\n",
       "      <td>2015</td>\n",
       "      <td>25-34 years</td>\n",
       "      <td>male</td>\n",
       "      <td>5503</td>\n",
       "      <td>22137097</td>\n",
       "    </tr>\n",
       "    <tr>\n",
       "      <th>2522</th>\n",
       "      <td>United States</td>\n",
       "      <td>2015</td>\n",
       "      <td>15-24 years</td>\n",
       "      <td>male</td>\n",
       "      <td>4359</td>\n",
       "      <td>22615073</td>\n",
       "    </tr>\n",
       "    <tr>\n",
       "      <th>2523</th>\n",
       "      <td>United States</td>\n",
       "      <td>2015</td>\n",
       "      <td>35-54 years</td>\n",
       "      <td>female</td>\n",
       "      <td>4053</td>\n",
       "      <td>41531809</td>\n",
       "    </tr>\n",
       "    <tr>\n",
       "      <th>2524</th>\n",
       "      <td>United States</td>\n",
       "      <td>2015</td>\n",
       "      <td>55-74 years</td>\n",
       "      <td>female</td>\n",
       "      <td>2872</td>\n",
       "      <td>35115610</td>\n",
       "    </tr>\n",
       "    <tr>\n",
       "      <th>2525</th>\n",
       "      <td>United States</td>\n",
       "      <td>2015</td>\n",
       "      <td>25-34 years</td>\n",
       "      <td>female</td>\n",
       "      <td>1444</td>\n",
       "      <td>21555712</td>\n",
       "    </tr>\n",
       "    <tr>\n",
       "      <th>2526</th>\n",
       "      <td>United States</td>\n",
       "      <td>2015</td>\n",
       "      <td>15-24 years</td>\n",
       "      <td>female</td>\n",
       "      <td>1132</td>\n",
       "      <td>21633813</td>\n",
       "    </tr>\n",
       "    <tr>\n",
       "      <th>2527</th>\n",
       "      <td>United States</td>\n",
       "      <td>2015</td>\n",
       "      <td>75+ years</td>\n",
       "      <td>female</td>\n",
       "      <td>540</td>\n",
       "      <td>11778666</td>\n",
       "    </tr>\n",
       "    <tr>\n",
       "      <th>2528</th>\n",
       "      <td>United States</td>\n",
       "      <td>2015</td>\n",
       "      <td>5-14 years</td>\n",
       "      <td>male</td>\n",
       "      <td>255</td>\n",
       "      <td>21273987</td>\n",
       "    </tr>\n",
       "    <tr>\n",
       "      <th>2529</th>\n",
       "      <td>United States</td>\n",
       "      <td>2015</td>\n",
       "      <td>5-14 years</td>\n",
       "      <td>female</td>\n",
       "      <td>158</td>\n",
       "      <td>20342901</td>\n",
       "    </tr>\n",
       "  </tbody>\n",
       "</table>\n",
       "<p>2530 rows × 6 columns</p>\n",
       "</div>"
      ],
      "text/plain": [
       "            country  year          age     sex suicides_no population\n",
       "0         Argentina  1985    75+ years    male         202     363000\n",
       "1         Argentina  1985  55-74 years    male         485    1997000\n",
       "2         Argentina  1985  35-54 years    male         414    3346300\n",
       "3         Argentina  1985  55-74 years  female         210    2304000\n",
       "4         Argentina  1985  25-34 years    male         177    2234200\n",
       "5         Argentina  1985    75+ years  female          41     537000\n",
       "6         Argentina  1985  15-24 years    male         156    2415200\n",
       "7         Argentina  1985  35-54 years  female         142    3355300\n",
       "8         Argentina  1985  25-34 years  female          65    2185200\n",
       "9         Argentina  1985  15-24 years  female          69    2354200\n",
       "10        Argentina  1985   5-14 years    male          16    3044200\n",
       "11        Argentina  1985   5-14 years  female          11    2955200\n",
       "12        Argentina  1986    75+ years    male         230     365000\n",
       "13        Argentina  1986  55-74 years    male         530    2008300\n",
       "14        Argentina  1986  35-54 years    male         478    3365200\n",
       "15        Argentina  1986  25-34 years    male         209    2246900\n",
       "16        Argentina  1986    75+ years  female          48     540200\n",
       "17        Argentina  1986  55-74 years  female         201    2317100\n",
       "18        Argentina  1986  15-24 years    male         186    2428900\n",
       "19        Argentina  1986  35-54 years  female         188    3374300\n",
       "20        Argentina  1986  25-34 years  female          96    2197600\n",
       "21        Argentina  1986  15-24 years  female         101    2367600\n",
       "22        Argentina  1986   5-14 years    male          10    3061400\n",
       "23        Argentina  1986   5-14 years  female           7    2971900\n",
       "24        Argentina  1987    75+ years    male         200     369800\n",
       "25        Argentina  1987  55-74 years    male         532    2034500\n",
       "26        Argentina  1987  35-54 years    male         482    3409100\n",
       "27        Argentina  1987    75+ years  female          57     547000\n",
       "28        Argentina  1987  55-74 years  female         224    2347300\n",
       "29        Argentina  1987  25-34 years    male         192    2276200\n",
       "...             ...   ...          ...     ...         ...        ...\n",
       "2500  United States  2013  55-74 years  female        2484   33229667\n",
       "2501  United States  2013  25-34 years  female        1285   20951958\n",
       "2502  United States  2013  15-24 years  female         975   21698877\n",
       "2503  United States  2013    75+ years  female         431   11486590\n",
       "2504  United States  2013   5-14 years    male         252   21233001\n",
       "2505  United States  2013   5-14 years  female         143   20308672\n",
       "2506  United States  2014    75+ years    male        3106    7994948\n",
       "2507  United States  2014  55-74 years    male        8961   31339875\n",
       "2508  United States  2014  35-54 years    male       11455   41858354\n",
       "2509  United States  2014  25-34 years    male        5222   21760455\n",
       "2510  United States  2014  15-24 years    male        4089   22700273\n",
       "2511  United States  2014  35-54 years  female        4018   41742299\n",
       "2512  United States  2014  55-74 years  female        2676   34193742\n",
       "2513  United States  2014  25-34 years  female        1347   21250636\n",
       "2514  United States  2014  15-24 years  female         990   21691057\n",
       "2515  United States  2014    75+ years  female         477   11616299\n",
       "2516  United States  2014   5-14 years    male         277   21264881\n",
       "2517  United States  2014   5-14 years  female         151   20336916\n",
       "2518  United States  2015    75+ years    male        3171    8171136\n",
       "2519  United States  2015  55-74 years    male        9068   32264697\n",
       "2520  United States  2015  35-54 years    male       11634   41658010\n",
       "2521  United States  2015  25-34 years    male        5503   22137097\n",
       "2522  United States  2015  15-24 years    male        4359   22615073\n",
       "2523  United States  2015  35-54 years  female        4053   41531809\n",
       "2524  United States  2015  55-74 years  female        2872   35115610\n",
       "2525  United States  2015  25-34 years  female        1444   21555712\n",
       "2526  United States  2015  15-24 years  female        1132   21633813\n",
       "2527  United States  2015    75+ years  female         540   11778666\n",
       "2528  United States  2015   5-14 years    male         255   21273987\n",
       "2529  United States  2015   5-14 years  female         158   20342901\n",
       "\n",
       "[2530 rows x 6 columns]"
      ]
     },
     "execution_count": 7,
     "metadata": {},
     "output_type": "execute_result"
    }
   ],
>>>>>>> 0ad731e72874afbaec6700f806622e38ad0bec22
   "source": [
    "year = df_sex['year'].unique()\n",
    "#print(year)\n",
    "count_male = 0\n",
    "conut_female = 0\n",
    "#df_sex\n",
    "for i in range(len(df_sex)):\n",
    "    if df_sex.loc[i,\"country\"] == 'Argentina':\n",
    "        if df_sex.loc[i,\"sex\"] == \"male\":\n",
    "            count_male += df_sex.loc[i,\"suicides_no\"]\n",
    "        else:\n",
    "            conut_female += df_sex.loc[i,\"suicides_no\"]"
   ]
  },
  {
   "cell_type": "markdown",
   "metadata": {
    "collapsed": true
   },
   "source": [
    "# Data Visualization"
   ]
  },
  {
   "cell_type": "markdown",
   "metadata": {},
   "source": [
    "## Seaborn Config"
   ]
  },
  {
   "cell_type": "code",
   "execution_count": 8,
<<<<<<< HEAD
   "metadata": {
    "collapsed": true
   },
=======
   "metadata": {},
>>>>>>> 0ad731e72874afbaec6700f806622e38ad0bec22
   "outputs": [],
   "source": [
    "# Configure Seaborn\n",
    "sns.set()\n",
    "sns.set_context('talk')\n",
    "\n",
    "# Set max number of displayed rows/columns\n",
    "pd.options.display.max_rows = 7\n",
    "pd.options.display.max_columns = 8\n",
    "\n",
    "# Round decimals when displaying DataFrames\n",
    "pd.set_option('precision', 2)"
   ]
  },
  {
   "cell_type": "markdown",
   "metadata": {},
   "source": [
    "# Sex vs Suicide Rate"
   ]
  },
  {
   "cell_type": "code",
   "execution_count": 28,
   "metadata": {},
   "outputs": [
    {
     "name": "stdout",
     "output_type": "stream",
     "text": [
      "          country  female   male\n",
      "0       Argentina     604   2469\n",
      "1       Australia     735   2292\n",
      "2    South Africa     105    377\n",
      "3        Thailand     839   3366\n",
      "4  United Kingdom    1178   3732\n",
      "5   United States   10199  33990\n"
     ]
    },
    {
     "data": {
      "text/plain": [
       "Text(0.5, 1.0, 'Sex vs Suicide Rate (2015)')"
      ]
     },
     "execution_count": 28,
     "metadata": {},
     "output_type": "execute_result"
    },
    {
     "data": {
      "image/png": "iVBORw0KGgoAAAANSUhEUgAAAaUAAAFNCAYAAACgxXBBAAAABHNCSVQICAgIfAhkiAAAAAlwSFlz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\n",
      "text/plain": [
       "<Figure size 432x288 with 1 Axes>"
      ]
     },
     "metadata": {},
     "output_type": "display_data"
    }
   ],
   "source": [
    "# Trying to look for the Sex vs Suicide Rate in 2015\n",
    "df_sex_2015 = df_sex[df_sex['year'] == 2015]\n",
    "male = df_sex_2015[df_sex_2015['sex'] == 'male']\n",
    "female = df_sex_2015[df_sex_2015['sex'] == 'female']\n",
    "tmp = list()\n",
    "male_country = dict()\n",
    "female_country = dict()\n",
    "for i in (male.index):\n",
    "    for country in selected:\n",
    "        if male.loc[i,\"country\"]==country:\n",
    "            if country in male_country:\n",
    "                male_country[country] += male.loc[i,'suicides_no']\n",
    "            else:\n",
    "                male_country[country] = male.loc[i,'suicides_no']\n",
    "for i in (female.index):\n",
    "    for country in selected:\n",
    "        if female.loc[i,\"country\"]==country:\n",
    "            if country in female_country:\n",
    "                female_country[country] += female.loc[i,'suicides_no']\n",
    "            else:\n",
    "                female_country[country] = female.loc[i,'suicides_no']\n",
    "country = list()\n",
    "male_count=list()\n",
    "female_count = list()\n",
    "for i in male_country:\n",
    "    country.append(i)\n",
    "    male_count.append(male_country[i])\n",
    "    female_count.append(female_country[i])\n",
    "d = {'country':country,'male': male_count, 'female': female_count}\n",
    "sex = pd.DataFrame(data = d)\n",
    "print(sex)\n",
    "sex.plot.bar(x = 'country', rot=30)\n",
    "plt.ylabel('suicides_no')\n",
    "plt.title('Sex vs Suicide Rate (2015)')"
   ]
  },
  {
   "cell_type": "markdown",
   "metadata": {},
   "source": [
    "## Sex + Age vs Suicide Rates"
   ]
  },
  {
   "cell_type": "code",
   "execution_count": 18,
   "metadata": {},
   "outputs": [
    {
     "data": {
      "text/plain": [
       "(0, 700)"
      ]
     },
     "execution_count": 18,
     "metadata": {},
     "output_type": "execute_result"
    },
    {
     "data": {
<<<<<<< HEAD
      "image/png": "iVBORw0KGgoAAAANSUhEUgAAAasAAAENCAYAAACxVEqeAAAABHNCSVQICAgIfAhkiAAAAAlwSFlz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\nQmCC\n",
=======
      "image/png": "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\n",
>>>>>>> 0ad731e72874afbaec6700f806622e38ad0bec22
      "text/plain": [
       "<Figure size 720x720 with 1 Axes>"
      ]
     },
     "metadata": {},
     "output_type": "display_data"
    }
   ],
   "source": [
    "# Sex+Age vs Suicide Rates\n",
    "# Age ranges: 5-14(range a), 15-24(range b), 25-34(range c), 35-54(range d), 55-74(range e), 75+(range f)\n",
    "\n",
    "df_sex_2015 = df_sex[df_sex['year'] == 2015]\n",
    "df_sex_argentina = df_sex_2015[df_sex_2015['country'] == 'Argentina']\n",
    "\n",
    "count_male_a = 0\n",
    "count_male_b = 0\n",
    "count_male_c = 0\n",
    "count_male_d = 0\n",
    "count_male_e = 0\n",
    "count_male_f = 0\n",
    "\n",
    "#df_sex\n",
    "df_male_ARG = df_sex_argentina[df_sex_argentina['sex'] == 'male']\n",
    "\n",
    "for index, row in df_male_ARG.iterrows():\n",
    "    if(row['age'] == '75+ years'):\n",
    "        count_male_f += row['suicides_no']\n",
    "    elif(row['age'] == '55-74 years'):\n",
    "        count_male_e += row['suicides_no']\n",
    "    elif(row['age'] == '35-54 years'):\n",
    "        count_male_d += row['suicides_no']\n",
    "    elif(row['age'] == '25-34 years'):\n",
    "        count_male_c += row['suicides_no']\n",
    "    elif(row['age'] == '15-24 years'):\n",
    "        count_male_b += row['suicides_no']\n",
    "    elif(row['age'] == '5-14 years'):\n",
    "        count_male_a += row['suicides_no']\n",
    "    else:\n",
    "        print(\"fail to find age within range!\")\n",
    "        \n",
    "#print(\"count 5-14:\", count_male_a, \"count 15-24:\", count_male_b, \"count 25-34:\", count_male_c, \"count 35-54:\", count_male_d, \"count 55_74:\", count_male_e, \"count 75+:\", count_male_f)\n",
    "\n",
    "m_count_dict = {'Group':['5-14', '15-24', '25-34', '35-54', '55-74', '75+'], \n",
    "              'Count':[count_male_a, count_male_b, count_male_c, count_male_d, count_male_e, count_male_f]} \n",
<<<<<<< HEAD
    "counts = pd.DataFrame(count_dict)\n",
    "plt.bar(counts.Group, height = counts.Count)\n",
    "plt.title(\"Number of Male suicides by Age Range in Argentina (2015)\")\n",
    "plt.ylim(0, 700)"
   ]
  },
  {
   "cell_type": "code",
   "execution_count": 19,
   "metadata": {},
   "outputs": [
    {
     "data": {
      "text/plain": [
       "(0, 700)"
      ]
     },
     "execution_count": 19,
     "metadata": {},
     "output_type": "execute_result"
    },
    {
     "data": {
      "image/png": "iVBORw0KGgoAAAANSUhEUgAAAb0AAAENCAYAAACb5LsxAAAABHNCSVQICAgIfAhkiAAAAAlwSFlz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\nMeQAAAAASUVORK5CYII=\n",
      "text/plain": [
       "<Figure size 432x288 with 1 Axes>"
      ]
     },
     "metadata": {},
     "output_type": "display_data"
    }
   ],
   "source": [
=======
    "m_counts = pd.DataFrame(m_count_dict)\n",
    "\n",
>>>>>>> 0ad731e72874afbaec6700f806622e38ad0bec22
    "count_female_a = 0\n",
    "count_female_b = 0\n",
    "count_female_c = 0\n",
    "count_female_d = 0\n",
    "count_female_e = 0\n",
    "count_female_f = 0\n",
    "\n",
    "#df_sex\n",
    "df_female_ARG = df_sex_argentina[df_sex_argentina['sex'] == 'female']\n",
    "\n",
    "for index, row in df_female_ARG.iterrows():\n",
    "    if(row['age'] == '75+ years'):\n",
    "        count_female_f += row['suicides_no']\n",
    "    elif(row['age'] == '55-74 years'):\n",
    "        count_female_e += row['suicides_no']\n",
    "    elif(row['age'] == '35-54 years'):\n",
    "        count_female_d += row['suicides_no']\n",
    "    elif(row['age'] == '25-34 years'):\n",
    "        count_female_c += row['suicides_no']\n",
    "    elif(row['age'] == '15-24 years'):\n",
    "        count_female_b += row['suicides_no']\n",
    "    elif(row['age'] == '5-14 years'):\n",
    "        count_female_a += row['suicides_no']\n",
    "    else:\n",
    "        print(\"fail to find age within range!\")\n",
    "        \n",
    "#print(\"count 5-14:\", count_female_a, \"count 15-24:\", count_female_b, \"count 25-34:\", count_female_c, \"count 35-54:\", count_female_d, \"count 55_74:\", count_female_e, \"count 75+:\", count_female_f)\n",
    "\n",
    "fem_count_dict = {'Group':['5-14', '15-24', '25-34', '35-54', '55-74', '75+'], \n",
    "              'Count':[count_female_a, count_female_b, count_female_c, count_female_d, count_female_e, count_female_f]} \n",
    "fem_counts = pd.DataFrame(fem_count_dict)\n",
    "plt.figure(figsize = (10, 10))\n",
    "plt.bar(m_counts.Group, height = m_counts.Count, label = 'Male suicides')\n",
    "plt.bar(fem_counts.Group, height = fem_counts.Count, label = 'Female suicides')\n",
    "plt.legend(loc = 'upper right')\n",
    "plt.title(\"Number of Suicides in Argentina by Age Range (2015)\")\n",
    "plt.ylim(0, 700)\n"
   ]
  },
  {
   "cell_type": "markdown",
   "metadata": {},
   "source": [
    "## GDP vs Suicide Rate"
   ]
  },
  {
   "cell_type": "code",
<<<<<<< HEAD
   "execution_count": 20,
=======
   "execution_count": 19,
>>>>>>> 0ad731e72874afbaec6700f806622e38ad0bec22
   "metadata": {},
   "outputs": [
    {
     "name": "stdout",
     "output_type": "stream",
     "text": [
      "                       gdp  ratio\n",
      "country                          \n",
      "Antigua and Barbuda   9.14     15\n",
      "Argentina            11.77    112\n",
      "Armenia              10.02     45\n",
      "...                    ...    ...\n",
      "United Kingdom       12.46     86\n",
      "United States        13.26    175\n",
      "Uruguay              10.73    270\n",
      "\n",
      "[62 rows x 2 columns]\n"
     ]
    },
    {
     "data": {
<<<<<<< HEAD
      "image/png": "iVBORw0KGgoAAAANSUhEUgAAAX8AAAEgCAYAAABcnHNFAAAABHNCSVQICAgIfAhkiAAAAAlwSFlz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\n",
=======
      "image/png": "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\n",
>>>>>>> 0ad731e72874afbaec6700f806622e38ad0bec22
      "text/plain": [
       "<Figure size 432x288 with 1 Axes>"
      ]
     },
     "metadata": {},
     "output_type": "display_data"
    }
   ],
   "source": [
    "# Trying to look for  the GDP vs Suicide Rate for 2015\n",
    "suicide_gdp = suicide_gdp[suicide_gdp.year == 2015]\n",
    "tmp1 = suicide_gdp['country'].unique()\n",
    "result1 = dict()\n",
    "for i in tmp1:\n",
    "    result1[i] = 0\n",
    "result2 = dict()\n",
    "for i in tmp1:\n",
    "    result2[i] = 0\n",
    "for i in suicide_gdp.index:\n",
    "    country = suicide_gdp.loc[i,\"country\"]\n",
    "    ratio = suicide_gdp.loc[i,'suicides/100k pop']\n",
    "    gdp = suicide_gdp.loc[i,' gdp_for_year ($) ']\n",
    "    result1[country]+= ratio\n",
    "    result2[country] = gdp\n",
    "country=list()\n",
    "ratiolist = list()\n",
    "gdplist = list()\n",
    "import math\n",
    "for i in tmp1:\n",
    "    ratio = result1[i]\n",
    "    gdp = result2[i]\n",
    "    country.append(i)\n",
    "    ratiolist.append(int(ratio))\n",
    "    gdp = gdp.replace(',','')\n",
    "    gdplist.append(math.log10(int(gdp)))\n",
    "data= dict()\n",
    "data = {\"country\":country,\"ratio\":ratiolist,\"gdp\":gdplist}\n",
    "\n",
    "df1 = pd.DataFrame(data)\n",
    "df1=df1.set_index(\"country\")\n",
    "print(df1)\n",
    "df1['gdp'].plot('hist', bins = 25)\n",
    "plt.xlabel('GDP(log10)', fontsize=16)\n",
    "plt.title('GDP vs Suicide Rate for 2015')\n",
    "f2 = plt.gcf()"
   ]
  },
  {
   "cell_type": "code",
<<<<<<< HEAD
   "execution_count": 26,
=======
   "execution_count": 20,
>>>>>>> 0ad731e72874afbaec6700f806622e38ad0bec22
   "metadata": {},
   "outputs": [
    {
     "data": {
<<<<<<< HEAD
      "image/png": "iVBORw0KGgoAAAANSUhEUgAAAWAAAAFgCAYAAACFYaNMAAAABHNCSVQICAgIfAhkiAAAAAlwSFlz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\nLCISkv8ft/fmjjNGLrQAAAAASUVORK5CYII=\n",
=======
      "image/png": "iVBORw0KGgoAAAANSUhEUgAAAWAAAAFgCAYAAACFYaNMAAAABHNCSVQICAgIfAhkiAAAAAlwSFlzAAALEgAACxIB0t1+/AAAADl0RVh0U29mdHdhcmUAbWF0cGxvdGxpYiB2ZXJzaW9uIDMuMC4yLCBodHRwOi8vbWF0cGxvdGxpYi5vcmcvOIA7rQAAIABJREFUeJzt3XucHFWd9/FPdffcMxm5BAMESELkICBgErmpaDALuCsisLLqLl52feRZd312vYD4KA/rBXG5uOziet19RF+yi8qKF8CAISDusoJJFHlADreEkIAQQshM5trdVc8fVT3T09MzfZmururq7/v1yqvTXdU9p6qrf3Xq1O+c43ieh4iINF8q6gKIiLQrBWARkYgoAIuIREQBWEQkIgrAIiIRUQAWEYmIArCISEQUgEVEIqIALCISEQVgEZGIKACLiEREAVhEJCIKwCIiEVEAnump4J+ISKgyURcghgZc1xvYtWtvw8fpHBjoAWDPntFGf3SkkrhdSdwm0HaFYdGifqfe98YqABtjfgAca61dUfTa6cDlwNHAc8CXrLXXlLxvNXA1sBoYBK4HLrPWZptUdBGRmsWmCcIY82fAOSWvnQLcAjwCnAvcAFxljPlY0TorgDuBUeB84BrgI8A/NKfkIiL1iUUN2BhzEPBPwPaSRZ8BNltrLwierzPGdACfNMZcZ60dBy4B9gBnW2sngNuMMSPAdcaYK6y1O5q0GSIiNYlLDfhfgDvwa7IAGGO6gVOB/yhZ9ybgZcApwfPTgZ8Ewbd4nXSwTEQkliKvARtj3g+swm/jvbpo0XKgA7Alb3l86q3mPuCQ0nWstTuNMYOAqadMjjPVqN9ImUwaCOezo5TE7UriNoG2K24irQEbYw4Dvgh80Fr7QsnigeBxsOT1oeBx4RzrFNZb2IhyioiEIbIasDHGAf4vcJu1trSZAaCQ2jFbOphbYR0nWKdmnhdOOotSgFpHErcJtF1hWLSov+73RtkE8VfAscCrjDGFcjgAwfM9wWultdjC8z1M1XzL1XQXFH2GiMxhdDzHw1t3MzyWpa+7g6OW7kNPV+QtlIkX5R7+Y2B/4Nkyy7LAXwJ5YEXJssJza63da4zZUbqOMeYA/KBc2n4sIkU8z+OuzTtYv2k7rueRz7ukUylSKYe1q5awZuXBOE7d/QykgijbgC8EXlPy7xb8VLTXAN8H7gHODZorCs7Dr9luDJ7fAZxljOksWScP3B1i+UVa3l2bd7Du/m1kMg49XRkW9HbS050hk3FYd/827tqsLM4wRVYDttbOqJ0aY3YB49bajcHzzwHrgRuNMdfjp55dBFxirR0J3nYl8E78/N9rgSOAzwNft9ZuC31DJHK6fK7P6HiO9Zu2092VJp2aXhdLp1J0d8H6Tds5+ZjF2p8hifVetdZuMMacB3wa+CGwA7iouCuytfaRoLvyVfj5vy/gZ1ZcFkGRpYl0+Tw/D2/djet6pFPpssvTqRQTrn9yW2UWNbl07SFWAdha+94yr90M3Fzhfb8ATgqpWBJThctnvwY3FUTyrsu6+/2Ln9NWLYmqeLE3PJYl786dKJR3PYbHNKRKWOLSE06kJpUvn9Os37Sd0fFcRCWMv77ujhn7rlQ65dDX3dGkErUfBWBpSVOXz+UP4XQqhet6PLx1d5NL1jqOWroPqZQzay04n3dJpRyOWrpPk0vWPhSApSXp8nn+eroyrF21hLHx/Ix9mXddxifyrF21RDfgQqQ9Ky1Jl8+NsWblwYCf7TDh5si7HumUQyrlcMYJh04ul3AoAEtLKr58LheIdflcHcdxOG3VEk4+ZrFS+SKgPSwtqXD57GdBMC0IFy6fzzjhUAWRKvV0ZZRqFgEdndKydPksrU4BWFqWLp+l1ekolZany2dpVUpDExGJiAKwiEhEFIBFRCKiACwiEhEFYBGRiCgAi4hERAFYRCQiCsAiIhFRABYRiYgCsIhIRBSARUQiogAsIhIRBWARkYgoAIuIREQBWEQkIgrAIiIRUQAWEYmIArCISEQUgEVEIqIALCISEQVgEZGIKACLiEREAVhEJCIKwCIiEVEAFhGJiAKwiEhEFIBFRCKiACwiEhEFYBGRiCgAi4hERAFYRCQiCsAiIhFRABYRiYgCsIhIRBSARUQiogAsIhIRBWARkYgoAIuIREQBWEQkIgrAIiIRUQAWEYmIArCISEQUgEVEIpKJ8o8bYxzgb4APAocAjwJ/b639t6J1TgcuB44GngO+ZK29puRzVgNXA6uBQeB64DJrbbYJmyEiUpeoa8CfwA+c3wLeAvwMuMEYcz6AMeYU4BbgEeBc4AbgKmPMxwofYIxZAdwJjALnA9cAHwH+oXmbISJSu8hqwMaYDuBjwFestZcHL98Z1GY/BHwP+Ayw2Vp7QbB8XfC+TxpjrrPWjgOXAHuAs621E8BtxpgR4DpjzBXW2h3N3C4RkWpFWQPOA28Arih5fQLoNsZ0A6cC/1Gy/CbgZcApwfPTgZ8Ewbd4nXSwTEQkliKrAVtrXeBBmGwLPgB4H7AWuBBYDnQAtuStjwePxhhzH37b8bR1rLU7jTGDgKmnbI4DAwM99bx1TplMGgjns6OUxO1K4jaBtituIr0JV+Rc/ForwK3Ad4Djg+eDJesOBY8LgYFZ1imst7CBZRQRaai4BODN+M0RxwKfxQ/CnwqWebO8xwWcOdZxgnVq5nmwZ89oPW+dU+HsHMZnRymJ25XEbQJtVxgWLeqv+72xCMDW2i3AFuCeoOngW0wF19JabOH5HqZqvuVquguCdUREYimym3DGmH2NMRcYYw4qWbQ5eFyGf6NuRcnywnNrrd0L7ChdxxhzAH5QLm0/FhGJjSizIFL4Nd0LS14vZC78CrgHODe4SVdwHn7NdmPw/A7gLGNMZ8k6eeDuBpdZRKRhosyCeMEY82XgkiBvdyPwOvzOGf9irbXGmM8B64EbjTHX46eeXQRcYq0dCT7qSuCd+Pm/1wJHAJ8Hvm6t3dbUjRIRqUHUPeE+DFwK/Dn+jbcLgMsIasXW2g34tdlXAj8E/hS4yFp7ZeEDrLWP4NeaF+BnUnwE+CJ+F2cRkdhyPG+2JIO29ZLregO7du1t+AfrDnTrSOI2gbYrDIsW9TuV1yov6hqwiEjbUgAWEYmIArCISEQUgEVEIqIALCISEQVgEZGIKACLiEQkFoPxiIRhdDzHw1t3MzyWpa+7g6OW7kNPlw55iQ8djZI4nudx1+YdrN+0HdfzyOdd0qkUqZTD2lVLWLPyYByn7tx5kYZRAJbEuWvzDtbdv43urjTpVHry9bzrsu5+f3iQ01Ytiap4IpPUBiyJMjqeY/2m7UHwnX54p1MpurvSrN+0ndHxXEQlFJmiACyJMDqeY5PdyU13P8HoeI4U5ZsY0qkUruvx8NbdTS6hyExqgpCWVtreOzyaZXQ8x/BYjoW9HfT3dc54T971GB7LRlBakekUgKWllbb3ep7HeDaP48DgyATAjCCcTjn0dXdEUVyRadQEIS2rXHtvd2dQp/A8HMdhcCSL504NuZrPu6RSDkct3SeKIotMoxqwtKyHt+7Gdb1pmQ6plEN/byeDwxOkgsmyRyfy9HZnyLsu4xN5zjjh0JrzgZVTLGHQESQta3gsS951Z7ze3+s3LwyNZHFdl5GxLA5+cD7jhENZs/Lgqv+GcoolTArA0rL6ujtmpJoBOI7Dwr5OFvR0MLh3gpVmEUct3beuWqtyiiVMagOWlnXU0n1IpZyytWDwa6893Rn++I2Hs8osqjn4joxllVMsoVIAltgq5Pbe88AzbLI7ZwS6nq4Ma1ctYWw8PyMIF9p7165aUndb7YNP7AramMv/TJRTLPOlJgiJnVraXQvtues3bWfCzZF3PdIpp6723lJDIxOz1q4LlFMs86EALLFTS7ur4zictmoJJx+zuOFZCv29nbPWfguUUyzzoQAssVJ5LAe/tnvyMYunBdiergyrzKKGluVVh+832cZcLhArp1jmS23AEitTub3Rt7v2dneE2sYsoiNHYmW23N5iYbW7Fne2OGC/Pl51+H6htjGLKABLrMyW21us0e2u5W76dXSkSTkOp736YNasPDiUNmYRHUESK8W5vc1qdy130y+TTpHPT7/p1+g2ZhG1AUushJ3bW2rOm35pdbaQcKkGLLHTzHbXcgP6FEunUky4fttwpRqwBuyRWunokNgJM7e3VCNu+iVhwB6dPKKhPSyxFUZub6lG3PRr5QF7knDyaGVqA5a2VmlAn0o3/Vp9EtDCySOTcejpyrCgt5Oe7gyZjMO6+7dx1+YdURcx0RSApa3NedMvX/mmX5w6jtSq1U8eSaAALG1vzcqDOfOEQ8nlPEbHcuwdyTI8lmUi71a86Rdlx5H5auWTR1KoDVgSp9YbSuVu+h2wXx/HrtifiQqBM4qOI43SyiePpFAAlsSY7w2l4pt+AwM9ABUDcBQdRxqllU8eSaEmCEmMKG4oNbvjSCPN9wakzJ8CsCRClDeUyrUhj47lyOW8WA/Y08onj6TQnpVEaGSPtlo1s+NIo2m0t2jF++gQqVIcbig1o+NIo7XyySMJtIclEXRDaX5a8eSRBGoDlkTQDSVpRQrAkgi6oSStSEejJIZuKEmrUQCWxNANJWk1OiolcXRDSVqF2oBFRCKiACwiEpG6miCMMa8E3gocBkwATwO3WmsfaWDZREQSreYAbIz5AvAxZtae/94Y80Vr7cUNKZm0nVqGkdQcZq1L392UmrbaGPN+4GLgFuBy4Hf4gfhI4OPAR40xD1lrv9Xogkpy1TKMpOYwa1367maq9bTz18Bd1tq3lrz+S+AcY8ydwToKwFK1Wia1bOUJMNudvruZar0JZ4AfzLH8B8Ar6y+OtJtahpHUHGatS99debXWgIeAxXMsPxAYrfbDjDEp4APAB4HlwHPAj4DLrLVDwTqrgauB1cAgcH2wPFv0Oa8Avgi8HsgB3wcuLnyGxFctw0gCkQ05KfMT5XChcVZrDfh24EPGmONKFxhjjgc+BPyshs+7GPgScCvwNuAa4D34ARRjzArgTvygfn6w/CPAPxT93X2ADcDLgXcDnwDeAfx7bZsmUahlGMk4DDkp9dF3V16tNeBPAmcAG40xtwM2eP1I4HTgJeBT1XyQMcbBD8Bfs9Z+Inh5vTFmF3BjEND/GtgDnG2tnQBuM8aMANcZY66w1u4A/grYBzjeWrsr+OztwbonWmvvq3EbpYlqHUayHYecTELWgIYLLa+mb9Fau80YcwLwBeAPg38Aw8DNwCXW2ier/Lh+4DvAd0teL+QSH44f1H8SBN+Cm4AvB8u+GTz+vBB8A3fgN5f8IaAAHGO1TmrZqhNg1iNJWQOtPHlpmGo+jVprtwLvCNpv9wccYKe1du7ri5mfMwj8rzKL3hY8/g44hKladuF9O40xg/g3BMGvfX+nZJ28MWZL0To1cZypWXEbKZPx27/C+OwozWe7BoCzXr+MH93zJL1dKdLpqR9nPu8ykfM4+9RlLD6gH2pctxYjY1kefGIXQyMT9Pd28uq+Lnq7O5r+XRWX47GnX+KBx3b6tceSbb1j49P09HZw5klLa/r8qI7BWr/nWrXqb6vu65gg4D7fwLJgjDkRuAT4IbA7eHmwzKpDwMLg/wNVrCMxdsaJhwFw671bcbN58nmPdNofRvLsU5dNLq913Wp4nsft9z3Frf+1daqWmU5xw+2P8JbXLecPXnNIU2qZpeXI5vK8NDSB44DnwcIFnTj45UinU/R2Zbj13q284dWtM8Zxo7+7JJjzmzPG5IELrLX/Fjx3Aa/CZ3rW2np62L0Wv4PHFuD9QFfh88qs7gBu0f8rrVMTz4M9e6pO5qha4ewcxmdHqRHbdfIrX87xy/cr29Y5ODhW97qVbNi0fTI3tSOVhg6/JuUAN9/9OMN7x5uSm1pajnzexXH8ITZf2juO63r093VOe08u6/LfDzxTU9ZA1MdgI7+7YlFu16JF9dXaoXIN+NvAEyXPKwXgmhlj/gQ/vexR4Exr7S5jzIJgcbla7AL8m3MEj+XW6Qe2NrakEqZahpFsxJCTc+amBrXM9Zu2c/Ixi0OtZZYrR9718DxIOYDjMDiSZUFPB05qqjbeqlkDGi50ypxHlbX2fSXP39voAhhjPoKf53s3cI61dk/wt/YaY3YAK0rWPwA/4Bbahm2ZddLAMvwbdiJlVcxNTadwm5CbWq4c6ZRDoeXDv8TzGJ3I09udmbZOu2UNJE1NecDGmA3GmDfNsfwsY8xDNXzeX+Dn9n4Pv+a7p2SVO4CzjDHF117nAXn8gF1YZ40xZt+idU7HryWvr7Ys0n7ikptarhzdnX6g9TwvePQ7oUyWq02zBpKmUhtwL36mQ8EbgZuNMY+VWT0FvBm/5llRUJP9J+Ap/M4YK42ZlrTwOHAl8E78nN5rgSOAzwNft9ZuC9b7Mn4HkDuNMZ8B9gve91Nr7b3VlEXaU1xyU8uVI5Vy6O/tZHB4ghQejuO/BlOTjJ5xwqEtcwNOyqv07fUBv8HPNAC//ffa4F85DtX3hDsT6MUfU/gXZZZfYK39jjHmdOAq/OaEF/C7HF9WWMla+4IxZk1Qphvwsx++B1xUZTmkTVXKTc01qZY5Wzn6e/3APzQygef5gXd0LKdJRhPEKVzizMYY82bgBPzg+n/wO1z8tsyqeWAncGOZpoRW8pLregO7du1t+AdHfQc6LK28XcXZB8XBzwFGxvOcvnpJ07MgistRCLpHL9uX5QcNzLsnXCt/V3OJOAui7jzFit+itfanwE8BjDGHAV9V915Jitmmss90pDj71GWcdOQBkZYjlXJ484mHtVSvN6lexRpwrYwxi6y1Oxv6oc2lGnCNkrBdpeMtnHzcQfR0ZZq+TWGP+5CE76qcxNaASxljLsDPRFjA9CyKDH7u7dFAZ5m3isRWaW5qVDe3lCPbXmqdkuhi4Ar8iTgH8TMktuNnHvTiDxv5Tw0uo4hIQ8VlhLla/+L7gAeANwCL8FPF1uCnkn0AP53sl40soIhIo8RthLlaB2RfCnzbWjsUDDu5G3i9tTZvrf0K/tCSf9vgMoqINERhXrpMxqGnK8OC3k56ujNkMg7r7t/GXZt3NLU8tQbgLH6ebcFjwLFFz+/C7ywh0pZGx3Nssju554Fn2GR3tt0cZ3EWx3npam2C+B1wCvCvwXOLP1dbwcuYGsVMpG3E7dJWZorjvHS1BuBvAl82xnQBFwI/Br5vjLkMPzh/GL+NWKStaMr1+IvL2B/Fag3A3weW4M/VlsWfhv5GproGDwIfb1jpRFpA5Utb5j2sZVzu2reyuIz9UazWb/DXwDeA/a21hYaSdxljvoKfinavtbahs2SIxF2Yl7bVNm0oQFcWx3npav2GFgG/Lwq+AFhryw2mI9IWwry0rdS04XkejuOo7bkKPV0Z1q5aEuxPZoy5EcUIc7X+pRuADxhjfhZMzinS9ipd2rquRy7n8tTvh9jUvbPq2mk1TRs/vncrnZkUPd0ZtT1XYa4xN6IYYa7WAOziz0L8mDHmcfxJOfMl63jW2lkHbRdJmtkubT3PY2gkOzmc5AOPv8BDW16sunZaqWnDwWFkLEfngq7Q2p6TxnEcTlu1hJOPWRyLJpta/+If4I/JC9ANHNrY4oi0ntkubYdGsgwOTwAeA31dk5NqVls7rdS0MTaRY67BtKJIq2oVcRlzo6YAbK2tarYLkXZTemmbzbtB8GVa8IXqa6eVmjbywRRFqdTstehWnbizXei6RKQBSi9tH976Ipsf3clAX+e0mYwLqqmdVrpr7wR/t6ezfBOF/3c0cWec1doVWUTmULi0PWxxP5m0Uzb4FlSqnRaaNsbG8zOaIgrP+7ozuJRvhqglrUpdqKOhGrBICBqV9F9ppgwPj9vvf7rutCp1oY6WArBICBqV9F/prr3neTg4dadVhdmFWp1DKtPeEAlBo5P+e7oyHLV0n8mA9vDW3ZMBrd60qrC6UKtWXT0FYJGQFDcfjLtZRsfzOI7f9HDGCYdUnfRfTUCrJ60qrC7UGpioeroJJxISx3FYs/JgTj3uQLI5F8fxg2kmneLnv3mWuzbvmDOPtyCsQcTD6EIdxzF340wBWCREd23ewYbNO1jQ28G+C7vZb6CHvp6OqoNnmAEtjNHBpmrV5T83nUrhuh4Pb91dU1mTSgFYJCSNCJ5hBrTiG4Xl1DM6WBzH3I0zBWCRkDQieIYZ0CrlGY9P5Fm7aklNN+DiOOZunOkmnDRVO6UmNSJ4hh3QGj06WBzH3I2zZB75EjvtmJrUiOAZdkBr9OhgcRxzN860F6Qp2jE1qRHBs1kBrZGjg8VtzN04UwCOsaRcrjdjzrQ4qjd4ln7vJx39cqB1AlrcxtyNM+2NGEra5XqU04FHfRKrpTZY6Xv/1LtX8bunXmqZgBaXMXfjLL7fXhtL2uV6FKlJUZzEZgv21dYGk/a9S2UKwDGTxMv1KFKTmhnMGtFVOInfu1SmPOCYSWJPojAS/ufS7O6wjegqnMTvXSpTAI6ZJPYkCiPhfy7NDGaNCvZJ/N6lMl3LxExSexI1MzWpmcGsUTcYG/W9R33TUWqjbyZmktqTqJmpSc08iTUq2M/3e09a5ky7UBNEzDT7cr3ZCjejTj3uIFaZRaFsRzPbnBsV7Of7vYc1ZKWEqzV/xQmnnkTz08zusPOpuTaqw0UtGRQD895iaSQF4BhST6L5a9ZJrJ5g3+gOF7W0Qy8+oL8h2y2NoV9zjKknUf2aeRKrNdg3OkdZGRStSwFYEq0ZJ7Fagn0YHS6SmjnTDhSARRqkmmAfxrgYSc2caQfKghBpojCaC5KeOZNk+kZEmqiRzQXFWRQL+zp506qD+flvnlXmTAtRABZpokY0F8yVRXHqcQey6GU9DI/llDnTAtQEIdJExc0F2VyekbEsQyMTjIxlyebyVTUXzNXpYsPmHezZOxFqRxdpHAVgkSZ746sPYtmB/Tz34ii79oyxe2icXXvGeO7FUZYe2M8bX33QrO9t9khvEi4FYJEmu/vXz7Dl2SEW79vLfgM97NvfzX4DPSzet5ctzw5x96+fmfW9GrYyWRSARZqouAabyaTo7c6woLeD3u4MmUzlGqw6XSSLArBIE823BqtOF8miACzSRPOtwTZ7dhEJV2xukRpjjgd+BSyz1m4vev104HLgaOA54EvW2mtK3rsauBpYDQwC1wOXWWt1HSaxMt8abDNHepPwxeJbMsYY4BZKymOMOSV4/bvApcDrgKuMMY619upgnRXAncC9wPnAK/ED9kLgr5u1DUlTz8wKmo2hskbkAWu40uSI9NdhjMkAHwC+AJSrrX4G2GytvSB4vs4Y0wF80hhznbV2HLgE2AOcba2dAG4zxowA1xljrrDWaiTqGtQzs4Lnedx+31P85BdbEjEbw+h4jkce+j1DIxOkPBp6ImlEDbZRI73phBm9qPf264ArgauAHcA3CguMMd3AqcAnS95zE3AxcApwF3A68JMg+Bav8+Vg2TfDKnwS1TNU4u33PcWP7nmSzo5U6FPAh6n45IPj10YdnIafSBpVg613pDfP89iwabumL4qBqAPw74Dl1trnjTHvLVm2HOgAbMnrjwePxhhzH3BI6TrW2p3GmEHA1FMox4GBgZ563jqnTMYPTmF8diOMjGXZ8OsdLOjpIJ2efnmcSafIpFJs+M0Oznztssma0shYltvu3Upvd2bGJfVs74mrdb/cyh0bn6a3K0M6E2yL5wfiOzY+TU9vB2eetLQhf+uc017BGacs5cEndjE0MkF/byfHrtg/9H2UyaS57d4tU9tZ9D2HsZ3NEvff1mwizYKw1j5nrX1+lsWF2VMGS14fCh4XzrFOYb2F8ythe3nwiV24njcj+Bak036K1G8ff2Hae/Jube+Jo5GxLLf+19YZQQn8bejtynDrvVsb2sOst7uDE49ezNrXHMqJR1c//u98jIxlueU/n2zqdsrs4lwlKVwDebMsdyus4wTr1MzzYM+e0XreOqfC2TmMz26E53cNk83myXWUH6sWIJt1eX7X8OQ2PL9rmHzeBQ9y+fK7u/Q9cbTJ7iSXc+nIpMjlXTJBcCreplzW5b8feKalZyl5ZPse8q5HJj3799WK2xnlb2vRovqneYpzHvCe4LG0FruwaPngLOsALCj6DKlCPSlSfd0zmysqvSeO2qWH2dDIhH/CnEMStrNVxDkAPwHkgRUlrxeeW2vtXvybd9PWMcYcgB+US9uPZQ71JPkftXQfUo4z64+6VToGtEsPs/7ezkScMJMitgHYWjsG3AOca4wpviV7Hn7NdmPw/A7gLGNMZ8k6eeDuJhQ1MeqZWaGnK8MfvXYpI+O5lp6NoV16mL3q8P38E2ZI2zk6nmOT3ck9DzzDJrtTbckVxPtXAZ8D1gM3GmOux089uwi4xFo7EqxzJfBO/Pzfa4EjgM8DX7fWbmt+kVtbPSlSZ5x4GAA/+cWWlu0YUJqfm3IcRsZzZHN5HAfw4M0nHhb7E0klvd0d/NFrl3Lz3U80tCddPfnjEvMAbK3dYIw5D/g08EP85oaLirsiW2sfCborX4Wf//sC8EXgsgiK3PLqSfJ3HIczT1rK8cv3m/ae5Qf18+QzQ/zit8+2RKL/mpUH43keP753KyNjOTzPv7frOA593Rk8PDzPa/lAcsaJhzE6km1oT7p68scFnMJBJpNecl1vYNeuvQ3/4LhnQdSrdLtauTa0YdN2fnrfU6SKaoY9nWlcPMbG85x5wqEtHUiKv6tG9YQbHc/x2W9tJJNxynevdl1yOY9L37M6tBNwxFkQdR/M8a2OtJGkdQlt1dpQYazenu4MXR3+/i+kaqVx6O7ym2ZOPib8nN1mHBP19qQrNTXEZvn0xXQqxYTrb08rpbY1Q+v+yhOglWuKs6k8ZU7zglit4hBIWvGYaJcUvjDE6xfQZlq1plhqZCzLg0/s4vldwzz34gi5vEtXZ/k0pjjXhuIQSOJ4TLw4OMadm7azZ3iCgb5O3rRqCfsu7J5c3i4pfGFQAI5IK9cUCwq1tQ2/3oHreWSzeSZyLsNj/o2d/t6OsrW1uNaGog4kcTsmXNflaz9+iM2PvhDcgPS7l97xq6dZecT+XPgaWlQgAAARhElEQVTWo0mlUg0ZYrNdxTYPOOmSMLliobbWmUnR193Bgt5OujszOHgMDk8wNFI+yMa1NhR1LnDcjomv/fghNtmdOA5kUik60iky6RSO43fd/tqPHwLqyx8XnwJwROJwuTsf02pr6ekZA47j/0iHRrK47vQsmzjXhqYFknzzA0mcjokXB8fY/OgLpFIOqZKrmJTjp6xtfvQFdg+NAX4K35knHEou5zE6lmPvSJbRsRy5nNcyueBR0CkpIlFf7s7XbDesnJTDwt4OBkcm8DyPsYkcvcE2tMKUOYVAseE3O3CzebJZt2mdSuJ0TNy5aTueN3ttPOU45FyX9Ru38/Y1Kxo2SHy70Z6JSKu3m81VW+vr6WAim2d4LMfQSJZc3qMjnWqJnnGFQFIYq/f5XcOhBJJyaWZxOib2DE/MOgxh6XrFGpXa1i4UgCPS6pMrlquteZ7H0EiWoRH/R+k4BOMOeLxq+T6cv+bwydpw3BXG6m10Yn+lNLM3rTqY2+9/OvJjYqCvk2qS3Qb6OiuvJLNSG3CEWrndrNwNq6GRLIPDEzj4NclUKsX+A90s7Ovg4a0v8suHnouuwDFRuHGZyTj0dGVY0NtJT3eGTMbx08w8mnZMzDVwzptWLcFxHNxZesq6QZfstavjnyYZZ/GsXrWJVm43K67BZ1IpHMfxJ7H0oy+e57GwtxMn5TS9F1lclaaZua7fRl4Yi6GzI8Wdm3dw6XtWh3pMVDMn3L4Lu1l5xP5ssjshxbQbca7n4boeq8wi9unvnuMvSSXt+UuImVZtNyu+YTUy6mc8pFIOeLCwt5P+osvTOHfAaJbCjcuUkwrS9PymGs/zm2sAujvTPLTlRVYfeUBo++n2+56qqrPHhW89ejIPOFd0peM4DqvMIi5869GhlK+dKABL3YpvWH1nneU/H9hBb3eHn4qWap0OGM1SuHE5NOIyOOxfLTiOMzmxlud5jIzl2PToTlYfeUAoZSjMfVdtZ4+/fNurZvSEW7t6iWq+DaIALPPW293Bca/Yn1/b5+npnv2QinNaXTP0dfs9A4eGx6eCbxHHcXAcD7ttN6PjuVCaagoTr3bUMN7Fvgu7efua0olppBF0E04a4lWH79cWM0rMx1FL9yGXd4Mmh5lXCB7gOCk6MqnQertpTrh4UQCWhujt7lB31Ap6ujKYQ/bB87wZObYeBDcuO3BdQguAmhMuXtr31yANV890Rkk011i+q49cxENbX2RsIj81wI0D4EzeuBwdy4UWAIvnhIu6s4coAEsDtXJaXSNUM5bvUUv3ZUFPBwN9nUzk3MnMkcKNy7ADYFhzwkl9tJel4Vo1rW6+qh3Ld6oHZDqSABjGnHBSHwVgkQaoZSzfqJtq2v1KJU60t0UaoNbpjOIQANv1SiVOFIAlMkmajLSesXwVAKU1j3Zpaa048WQlcRrLV1qHArDMW/GknNXUZOM48eR8xWksX2kdCsBSt3KTclaqyTZz4snSJo5lB/az5dmhUJo8Wn18Z4mGjgapW6Emu6Cng3Q6Ra7Dr83OVZOt9WZVPco1cYxn3WB8hTSdmRSZdLrhTR5RZzdI61EAlrrMNiknzF2TbcbEk6VNHEPDE4xN5HAcGB3P05FJ09OdaXiTh9K7pFY6KqQu9dZkw75ZVdrE4bkegyNZf6QxwMOfNmlBT0fDmzwKlN0g1dJgPFKXemuy5aYymvaeed6smjox+If26EQe8CbnN/ObGvyZKIDJmSnCGn1MZC4KwFKXemuyhZtVYY2aVnpicF1/wJtinuefHKb+roZflGioCULqUlyTzZQZ3nCummyYN6tKTwyplEPp/TXH8U8OBcrPlagoAEtdSiflLL4RVyntKsybVaX5uD2daXbj+IOd42dIgEN3p/93lJ8rUVIAlroVT8rpZvNks25NNdkwblaVy8dd2NvB4MhEMOg5LOzrmAzSys+VKOmok7oVT8pZS0+4sJU2cTgOdHdmJvOAHWB0LKf8XImcAnADJWlwmVr0dndw4tGL2bNntCl/r9J+nq2JY/lB/Tz5TDg94eKo3H4aiLpQMk1yj74mSuLgMnFU634u18SxyiR/OvW59tNZr1/GGSceFnURJaAA3ABJHFwmjrSfqzPXfvrRPU8CcPIrXx5V8aSI8oDnqfLgMmnWb9rO6HguohImg/ZzdSrtp96uDLfeu7Xt91NcKADPU2nPq1LqadUY2s/Vqbif0tpPcaIAPE/NGFxGtJ+rVdV+yms/xYUC8DxpJoTm0H6uTlX7Ka39FBe6CTdPmgmhOeK8n+OUflhpP+V0PMaKAvA8aSaE5ojjfo5j+mGl/TSR9Tj71GU6HmNC30IDzHdwmTjVoOIsbjNOxDUtbq79dPapfh7w4OBY08slMzle6Vh98pLregO7du2t+Y2VAunAQA/AZI+xONag6lG6XWFrxgmr0jaNjuf47Lc2ksk45ZtEXJdczuPS96yes2xhbku5z158QP+c29Wqmn0MFlu0qL/uH6mqWQ1U6+Ayca1BxV0cZpyY79x2zTj5xmE/ydyUBRERdSxobfNNiyucfDMZh56uDAt6O+npzpDJOKy7fxt3bd4RRrElZhSAI6KOBa1tPmlxOvlKgQJwRNSxoLXNZ247nXylQAE4IupY0NrmM7edTr5SoJtwEYlzxwKpTr1pcTr5SoECcETi2LFAalPv3HY6+UpBYn7dxph3Ap8ClgNbgSustd+OtFAVxK1jgdSn1nQvnXylIBHfsDHm7cANwD8C64C3Ad8yxoxYa2+KtHCB0fEcjzz0e4ZGJkh5TNaSwpodWOJNJ1+BhARg4Arge9baDwfPbzfG7At8Fog0ABcn3OP4l5cOzrSEeyXMt596my8kWVr+mzbGLAcOBz5Rsugm4HxjzDJr7Zbml8xX3Nutq8Pf3bm8q95uAqi3WrtLQhrakcGjLXn98eDRNLEs0yjhXkTm0vI1YJicaXuw5PWh4HFhrR/oOFODe8zHIw/9Hhwma74EXfsz6dTkYy6f5amdw5x49OJ5/72oZDL+eAiN2GdxkcRtAm1X3CShBlwYsaR0WLfC63NnvIdoaGSCfL7y9DBDIxNNKpGIxEkSasB7gsfSmm5/yfKqeV5jhrVLeeDgkAuCcKHmmysKyk6wXisPDxjlUIBhSeI2gbYrDIsW9VdeaRZJqAEX2n5XlLy+omR5081nvAARSb6WD8DW2seBLcAflyw6D3jMWrut+aXyzWe8ABFJvqT88j8DfNMYsxu4BXgrcD7wjkhLxfSE+1w+Sz7v+c0OSrgXaXuJCMDW2uuNMV3Ax4D3A08C77bWfjfakk1PuH9q5/CMnnAi0r4SEwGstV8DvhZ1OWbT05WZTDVL2g0QEalPy7cBi4i0KgVgEZGIKACLiEREAVhEJCKO55X24G17rud5Thi7xQk6Rydtlydxu5K4TaDtCkMq5WwDDqvnvYnJgmgg13GclOPMGNynYQoHS9IkcbuSuE2g7YoL1YBFRCKiNmARkYgoAIuIREQBWEQkIgrAIiIRUQAWEYmIArCISEQUgEVEIqIALCISEQVgEZGIKACLiEREAVhEJCIKwCIiEdFoaE1gjOkBPgu8C3gZ8ADwGWvtTyMtWJ2MMccDvwKWWWu3F71+OnA5cDTwHPAla+010ZSydrNtV9HyQ4D/B5xhrf1ls8tXjzm+q7cDFwNHAi8B64GPW2ufj6SgNZpju/4UuAQ4HHga+GfgOmttLEcdUw24Ob4PfAj4BvBW4A7gZmPMeZGWqg7GGAPcQsnJ2xhzSvD6I8C5wA3AVcaYjzW9kHWYbbuKlh8ErAMWNrNc8zHHd/UnwPeATcB5wKeA04D1wezisTbHdr0L+A7+7+ss4FvAF4GLml3GaqkGHDJjzErgj4CLrbVXBS+vN8Z0A9caY2621rrRlbA6xpgM8AHgC0C2zCqfATZbay8Inq8zxnQAnzTGXGetHW9SUWtSabuMMQ7wDuBaWuT3UsV39QngNmvt/yx6zyPAL4E3Az9sRjlrVcV2/W/gFmvtR4PndxpjjsCv/FzZnFLWRjXg8Jng8ZaS1+8BlgDHNrc4dXsd/kF8DfDx4gXByeRU4D9K3nMTfpPLKc0oYJ1m3a7A4cD1wL8D72teseZlru/KwW9u+HrJex4JHg8PvXT1q/RdnQv8TclrE0B3yOWqmwJw+LYFj6VTliwveYy73wHLrbWfBnIly5YDHYAtef3x4NEQX3NtF/ht2UdYa/8WGGlqyeo36zZZaz1r7cestT8qec/bgseHmlHAOs35XVlrH7XWPglgjNnXGPMXwLuZebKJjZa4pGpxvwIeBr5kjPlz4Df4NcJCu1RfVAWrhbX2uTkWDwSPpdM4DQWPsW03rbBdWGuHmNqOllBpm0oZYw4HrgY247efxlK122WMWQVsDJ5uxK8xx5JqwCGz1k4A5wAvAD8H9gBfxr/xAa1Tq5pLYSau2e40x76Nu10ZY44E7sKvUZ7fCvcjqrAdWIPfZHQg8J9BM1nsqAbcBNbaR4GTjDGL8WuLj+G3ZwG8GFnBGmdP8Fha011YslxixBjzRuAHwF5gjbX2iWhL1BhBTfk5AGPMk/gVn3Pw2/FjRQE4ZEEO8HnAL6y1TwG/D15fiV9j/E2ExWuUJ4A8sKLk9cLz0rZhiViQivZt/O/mzdbaHREXaV6CGu45+Jk4xcfb5uDx4OaXqjI1QYRvAj8Z/M8LLwRB+ULg59ba3VEVrFGstWP4WR3nBnfZC87Dr/1uLPtGiYQx5gz8fNn/Bl7X6sE3kMVv2vvfJa+fHjw+2NziVEc14JBZa/PGmK8CHzXGPANswe+BdBjwnkgL11ifw09vutEYcz1TNxovsdYmoZ07EYKOFv+K3+xwOXCU369h0tOtGJCD39nl+J1/nsW/mXgccBnwM2J6c1EBuDkuxb8RdSl+u+ivgDdZa++PtFQNZK3dEPTs+zR+Iv8O4KJW6orcJk5k6nK8XFC6FP9k2nKstVcbY3bj5wL/Df6N768Bl8W1K7LjebEsl4hI4qkNWEQkIgrAIiIRUQAWEYmIArCISEQUgEVEIqIALCISEQVgkRoYY+42xmyNuhySDArAIiIRUQAWEYmIArCISEQ0FoS0JWPMm4G/A47BHzv2i8DxwFpr7dJgnbX4k40ehz+MaOlIWxhj7sYfzPwfgb8HluHPr/Y5a23pHHki06gGLG3HGPMW4CdAJ35QvQl/Sp5zitZZC/wUfwD9TwHfxR9FbGWZj3xl8Bk/x58s0gVuCqZJF5mVasDSjq4FngROsdaOAhhj/gt/FLfC/G9fAJ4FTrbWDgbr/AzYwMxZTA4CPmytvTZY7xvAb/GHRrwxIdP8SAhUA5a2Yow5Fn/q9a8Wgi9AMEvw74J1DgBWAf9eCL7BOnfhB9ZShXn+CuuNAl/BD8yrQtgMSQgFYGk3rwgeHyuzrDCVzWHBY7k50h4p89oTweSrxQqfv7Sm0klbUQCWdtMRPI6XWTYWPBYGyS43k26530xp8AVIB4/56osm7UYBWNrNk8HjEWWWFWrHW/GDcLl1lpd5bVnJXHjFn1Wupi0CKABL+9kIPA38RTA/GgDGmJMIMhystS/gTzL6Z8aYlxetczLlsyBeDpxftF4v8JfAY9baWE4GKfGgLAhpK9Za1xjzEeB7wL3GmG8Di/DnEBtnqvnho8AvgF8aY/4Z6AM+jD/PWKks8E1jzErgGfwZsJcAbwlzW6T1qQYsbcdaexPwJ/gVkCuBdwEfwa8djwfrbALegN9k8XfA+4PH28t85DPBZ5wHfB4/K2KttTaWM/FKfGhSTmkrxpg0sK+1dmeZZQ8Cu621p9bweXcDSwu950RqoRqwtJs0sMMY89XiF40xxwBHA/dHUippS2oDlrZirZ0wxnwPeL8xxgM2AQcCH8Rv370myvJJe1EAlnb0P/A7XfwZ8F78Ntv1wKestc9GWC5pM2oDFhGJiNqARUQiogAsIhIRBWARkYgoAIuIREQBWEQkIv8f1vofktAVmMgAAAAASUVORK5CYII=\n",
>>>>>>> 0ad731e72874afbaec6700f806622e38ad0bec22
      "text/plain": [
       "<Figure size 360x360 with 1 Axes>"
      ]
     },
     "metadata": {},
     "output_type": "display_data"
    }
   ],
   "source": [
    "sns.lmplot(x='gdp', y='ratio', data=df1,fit_reg=False);"
   ]
  },
  {
   "cell_type": "code",
<<<<<<< HEAD
   "execution_count": 22,
=======
   "execution_count": 26,
>>>>>>> 0ad731e72874afbaec6700f806622e38ad0bec22
   "metadata": {},
   "outputs": [
    {
     "name": "stdout",
     "output_type": "stream",
     "text": [
<<<<<<< HEAD
      "                country   hdi  ratio\n",
      "0   Antigua and Barbuda -0.11      0\n",
      "1             Argentina -0.08    111\n",
      "2               Armenia -0.13     37\n",
      "..                  ...   ...    ...\n",
      "72        United States -0.04    171\n",
      "73              Uruguay -0.10    248\n",
      "74           Uzbekistan -0.17     85\n",
      "\n",
      "[75 rows x 3 columns]\n"
=======
      "                   country  year  suicides_no  suicides/100k pop  population  \\\n",
      "564    Antigua and Barbuda  2014            0               0.00        8537   \n",
      "565    Antigua and Barbuda  2014            0               0.00        7578   \n",
      "566    Antigua and Barbuda  2014            0               0.00       15273   \n",
      "...                    ...   ...          ...                ...         ...   \n",
      "27817           Uzbekistan  2014           60               2.17     2762158   \n",
      "27818           Uzbekistan  2014           44               1.67     2631600   \n",
      "27819           Uzbekistan  2014           21               1.46     1438935   \n",
      "\n",
      "       HDI for year  \n",
      "564            0.78  \n",
      "565            0.78  \n",
      "566            0.78  \n",
      "...             ...  \n",
      "27817          0.68  \n",
      "27818          0.68  \n",
      "27819          0.68  \n",
      "\n",
      "[900 rows x 6 columns]\n"
>>>>>>> 0ad731e72874afbaec6700f806622e38ad0bec22
     ]
    },
    {
     "data": {
<<<<<<< HEAD
      "image/png": "iVBORw0KGgoAAAANSUhEUgAAAYQAAAEgCAYAAAC0MAQrAAAABHNCSVQICAgIfAhkiAAAAAlwSFlz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\n",
=======
      "image/png": "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\n",
>>>>>>> 0ad731e72874afbaec6700f806622e38ad0bec22
      "text/plain": [
       "<Figure size 432x288 with 1 Axes>"
      ]
     },
     "metadata": {},
     "output_type": "display_data"
    }
   ],
   "source": [
    "#HDI vs Suicide Rate for 2014\n",
    "suicide_hdi = suicide_hdi[suicide_hdi.year == 2014]\n",
    "tmp1 = suicide_hdi['country'].unique()\n",
    "result3 = dict()\n",
    "for i in tmp1:\n",
    "    result3[i] = 0\n",
    "\n",
    "result4 = dict()\n",
    "for i in tmp1:\n",
    "    result4[i] = 0\n",
    "\n",
    "for i in suicide_hdi.index:\n",
    "    country = suicide_hdi.loc[i,\"country\"]\n",
    "    ratio = suicide_hdi.loc[i,'suicides/100k pop']\n",
    "    hdi = suicide_hdi.loc[i,'HDI for year']\n",
    "    result3[country]+= ratio\n",
    "    result4[country] = hdi\n",
    "country=list()\n",
    "ratiolist2 = list()\n",
    "hdilist = list()\n",
<<<<<<< HEAD
=======
    "\n",
>>>>>>> 0ad731e72874afbaec6700f806622e38ad0bec22
    "import math\n",
    "for i in tmp1:\n",
    "    ratio = result3[i]\n",
    "    hdi = result4[i]\n",
    "    country.append(i)\n",
    "    ratiolist2.append(int(ratio))\n",
    "    hdilist.append(math.log10(float(hdi)))\n",
    "data= dict()\n",
    "data = {\"country\":country,\"ratio\":ratiolist2,\"hdi\":hdilist}\n",
<<<<<<< HEAD
    "df2 = pd.DataFrame(data)\n",
    "print (df2)\n",
    "df2=df2.set_index(\"country\")\n",
=======
    "\n",
    "df2 = pd.DataFrame(data)\n",
    "df2\n",
    "df2=df2.set_index(\"country\")\n",
    "#df1\n",
>>>>>>> 0ad731e72874afbaec6700f806622e38ad0bec22
    "df2['hdi'].plot('hist', bins = 25)\n",
    "plt.xlabel('HDI(log10)', fontsize=16)\n",
    "plt.title('HDI vs Suicide Rate for 2014')\n",
    "f3 = plt.gcf()"
   ]
  },
  {
   "cell_type": "code",
<<<<<<< HEAD
   "execution_count": 23,
=======
   "execution_count": 27,
>>>>>>> 0ad731e72874afbaec6700f806622e38ad0bec22
   "metadata": {},
   "outputs": [
    {
     "data": {
<<<<<<< HEAD
      "image/png": "iVBORw0KGgoAAAANSUhEUgAAAWAAAAFgCAYAAACFYaNMAAAABHNCSVQICAgIfAhkiAAAAAlwSFlz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\nDLgAAAAASUVORK5CYII=\n",
=======
      "image/png": "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\n",
>>>>>>> 0ad731e72874afbaec6700f806622e38ad0bec22
      "text/plain": [
       "<Figure size 360x360 with 1 Axes>"
      ]
     },
     "metadata": {},
     "output_type": "display_data"
    }
   ],
   "source": [
    "%matplotlib inline\n",
    "sns.lmplot(x='hdi', y='ratio', data=df2,fit_reg=False);"
   ]
  },
  {
   "cell_type": "markdown",
   "metadata": {},
   "source": [
    "# Data Analysis & Results"
   ]
  },
  {
   "cell_type": "markdown",
   "metadata": {},
   "source": [
    "## OLS Regression Model For GDP vs Suicide Rate per 100K aka Ratio"
   ]
  },
  {
   "cell_type": "code",
<<<<<<< HEAD
   "execution_count": 24,
=======
   "execution_count": 28,
>>>>>>> 0ad731e72874afbaec6700f806622e38ad0bec22
   "metadata": {},
   "outputs": [
    {
     "name": "stdout",
     "output_type": "stream",
     "text": [
      "                            OLS Regression Results                            \n",
      "==============================================================================\n",
      "Dep. Variable:                  ratio   R-squared:                       0.050\n",
      "Model:                            OLS   Adj. R-squared:                  0.034\n",
      "Method:                 Least Squares   F-statistic:                     3.173\n",
      "Date:                Mon, 03 Jun 2019   Prob (F-statistic):             0.0799\n",
<<<<<<< HEAD
      "Time:                        16:20:28   Log-Likelihood:                -361.65\n",
=======
      "Time:                        15:31:27   Log-Likelihood:                -361.65\n",
>>>>>>> 0ad731e72874afbaec6700f806622e38ad0bec22
      "No. Observations:                  62   AIC:                             727.3\n",
      "Df Residuals:                      60   BIC:                             731.6\n",
      "Df Model:                           1                                         \n",
      "Covariance Type:            nonrobust                                         \n",
      "==============================================================================\n",
      "                 coef    std err          t      P>|t|      [0.025      0.975]\n",
      "------------------------------------------------------------------------------\n",
      "Intercept    -90.4529    125.705     -0.720      0.475    -341.899     160.994\n",
      "gdp           20.1154     11.293      1.781      0.080      -2.474      42.705\n",
      "==============================================================================\n",
      "Omnibus:                       11.240   Durbin-Watson:                   1.952\n",
      "Prob(Omnibus):                  0.004   Jarque-Bera (JB):               11.277\n",
      "Skew:                           0.962   Prob(JB):                      0.00356\n",
      "Kurtosis:                       3.816   Cond. No.                         132.\n",
      "==============================================================================\n",
      "\n",
      "Warnings:\n",
      "[1] Standard Errors assume that the covariance matrix of the errors is correctly specified.\n"
     ]
    },
    {
     "name": "stderr",
     "output_type": "stream",
     "text": [
      "/Users/yongjishen/anaconda3/lib/python3.6/site-packages/statsmodels/compat/pandas.py:56: FutureWarning: The pandas.core.datetools module is deprecated and will be removed in a future version. Please use the pandas.tseries module instead.\n",
      "  from pandas.core import datetools\n"
     ]
    }
   ],
   "source": [
    "import patsy\n",
    "import statsmodels.api as sm\n",
    "outcome_1, predictors_1 = patsy.dmatrices('ratio ~ gdp', df1)\n",
    "mod_1 = sm.OLS(outcome_1, predictors_1)\n",
    "type(mod_1)\n",
    "res_1 = mod_1.fit()\n",
    "print(res_1.summary())"
   ]
  },
  {
   "cell_type": "markdown",
   "metadata": {},
   "source": [
    "## OLS Regression Model For HDI vs Suicide Rate per 100K aka Ratio"
   ]
  },
  {
   "cell_type": "code",
<<<<<<< HEAD
   "execution_count": 25,
=======
   "execution_count": 24,
>>>>>>> 0ad731e72874afbaec6700f806622e38ad0bec22
   "metadata": {},
   "outputs": [
    {
     "name": "stdout",
     "output_type": "stream",
     "text": [
      "                            OLS Regression Results                            \n",
      "==============================================================================\n",
      "Dep. Variable:                  ratio   R-squared:                       0.097\n",
      "Model:                            OLS   Adj. R-squared:                  0.084\n",
      "Method:                 Least Squares   F-statistic:                     7.801\n",
      "Date:                Mon, 03 Jun 2019   Prob (F-statistic):            0.00666\n",
<<<<<<< HEAD
      "Time:                        16:20:28   Log-Likelihood:                -433.64\n",
=======
      "Time:                        15:30:02   Log-Likelihood:                -433.64\n",
>>>>>>> 0ad731e72874afbaec6700f806622e38ad0bec22
      "No. Observations:                  75   AIC:                             871.3\n",
      "Df Residuals:                      73   BIC:                             875.9\n",
      "Df Model:                           1                                         \n",
      "Covariance Type:            nonrobust                                         \n",
      "==============================================================================\n",
      "                 coef    std err          t      P>|t|      [0.025      0.975]\n",
      "------------------------------------------------------------------------------\n",
      "Intercept    181.4883     21.460      8.457      0.000     138.719     224.257\n",
      "hdi          572.7162    205.054      2.793      0.007     164.043     981.389\n",
      "==============================================================================\n",
      "Omnibus:                       16.716   Durbin-Watson:                   1.952\n",
      "Prob(Omnibus):                  0.000   Jarque-Bera (JB):               20.614\n",
      "Skew:                           1.021   Prob(JB):                     3.34e-05\n",
      "Kurtosis:                       4.557   Cond. No.                         22.5\n",
      "==============================================================================\n",
      "\n",
      "Warnings:\n",
      "[1] Standard Errors assume that the covariance matrix of the errors is correctly specified.\n"
     ]
    }
   ],
   "source": [
    "outcome_2, predictors_2 = patsy.dmatrices('ratio ~ hdi', df2)\n",
    "mod_2 = sm.OLS(outcome_2, predictors_2)\n",
    "type(mod_2)\n",
    "res_2 = mod_2.fit()\n",
    "print(res_2.summary())"
   ]
  },
  {
   "cell_type": "markdown",
   "metadata": {},
   "source": [
    "# Privacy & Ethnic Considerations"
   ]
  },
  {
   "cell_type": "markdown",
   "metadata": {},
   "source": [
    "# Conclusion & Discussion"
   ]
  },
  {
   "cell_type": "code",
   "execution_count": null,
   "metadata": {
    "collapsed": true
   },
   "outputs": [],
   "source": []
  }
 ],
 "metadata": {
  "kernelspec": {
   "display_name": "Python 3",
   "language": "python",
   "name": "python3"
  },
  "language_info": {
   "codemirror_mode": {
    "name": "ipython",
    "version": 3
   },
   "file_extension": ".py",
   "mimetype": "text/x-python",
   "name": "python",
   "nbconvert_exporter": "python",
   "pygments_lexer": "ipython3",
<<<<<<< HEAD
   "version": "3.6.3"
=======
   "version": "3.6.6"
>>>>>>> 0ad731e72874afbaec6700f806622e38ad0bec22
  }
 },
 "nbformat": 4,
 "nbformat_minor": 2
}
