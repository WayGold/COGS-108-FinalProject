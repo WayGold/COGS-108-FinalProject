{
 "cells": [
  {
   "cell_type": "markdown",
   "metadata": {},
   "source": [
    "# COGS 108 Final Project\n",
    "\n",
    "Team Members: Thalal Cassim, Kevin Chen, Yongji Shen, Ansuman Somasundaram, Wei Zeng"
   ]
  },
  {
   "cell_type": "markdown",
   "metadata": {},
   "source": [
    "# Data Wrangling"
   ]
  },
  {
   "cell_type": "code",
   "execution_count": 13,
   "metadata": {
    "collapsed": true
   },
   "outputs": [],
   "source": [
    "import numpy as np\n",
    "import pandas as pd\n",
    "import matplotlib.pyplot as plt\n",
    "import seaborn as sns"
   ]
  },
  {
   "cell_type": "code",
   "execution_count": 14,
   "metadata": {
    "collapsed": true
   },
   "outputs": [],
   "source": [
    "# read from data set\n",
    "suicide = pd.read_csv(\"./datasets/suicide-rates-overview-1985-to-2016.csv\")"
   ]
  },
  {
   "cell_type": "code",
   "execution_count": 15,
   "metadata": {
    "collapsed": true
   },
   "outputs": [],
   "source": [
    "#select data from those following countries from our data set\n",
    "selected = [\"Canada\",\"United States\",\"United Kingdom\",\"Australia\",'Argentina',\"Thailand\",\"Sri Lanka\",\"South Africa\"]\n",
    "tmp = list()   \n",
    "for i in (suicide.index):\n",
    "    for country in selected:\n",
    "        if suicide.loc[i,\"country\"]==country:\n",
    "            tmp.append(suicide.loc[i].tolist())\n",
    "df = pd.DataFrame(columns = suicide.columns)\n",
    "for i in tmp:\n",
    "    df = df.append(pd.Series(i, index=suicide.columns), ignore_index=True)"
   ]
  },
  {
   "cell_type": "code",
   "execution_count": 16,
   "metadata": {
    "collapsed": true
   },
   "outputs": [],
   "source": [
    "#suicide.isnull().any()\n",
    "suicideHDI = suicide.dropna()\n",
    "\n",
    "dfHDI = df.dropna()"
   ]
  },
  {
   "cell_type": "code",
   "execution_count": 17,
   "metadata": {
    "collapsed": true
   },
   "outputs": [],
   "source": [
    "#sex,age,dgc,and hdi for all countries\n",
    "suicide_sex = suicide[['country','year','sex','suicides_no','population']]\n",
    "suicide_age = suicide[['country','year','age','suicides_no','population']]\n",
    "suicide_gdp = suicide[['country','year','suicides_no','population','suicides/100k pop',' gdp_for_year ($) ','gdp_per_capita ($)']]\n",
    "suicide_hdi = suicideHDI[['country','year','suicides_no','suicides/100k pop','population','HDI for year']]"
   ]
  },
  {
   "cell_type": "code",
   "execution_count": 18,
   "metadata": {
    "collapsed": true
   },
   "outputs": [],
   "source": [
    "#sex,age,dgc,and hdi for selected countries \n",
    "#(\"Canada\",\"United States\",\"United Kingdom\",\"Australia\",'Argentina',\"Thailand\",\"Sri Lanka\",\"South Africa\")\n",
    "df_sex = df[['country','year','age','sex','suicides_no','population']]\n",
    "df_age = df[['country','year','age','suicides_no','population']]\n",
    "df_gdp = df[['country','year','suicides_no','population','suicides/100k pop',' gdp_for_year ($) ','gdp_per_capita ($)']]\n",
    "df_hdi = dfHDI[['country','year','suicides_no','suicides/100k pop','population','HDI for year']]"
   ]
  },
  {
   "cell_type": "code",
   "execution_count": 19,
   "metadata": {},
   "outputs": [
    {
     "name": "stdout",
     "output_type": "stream",
     "text": [
      "63893\n",
      "18326\n"
     ]
    },
    {
     "data": {
      "text/html": [
       "<div>\n",
       "<style>\n",
       "    .dataframe thead tr:only-child th {\n",
       "        text-align: right;\n",
       "    }\n",
       "\n",
       "    .dataframe thead th {\n",
       "        text-align: left;\n",
       "    }\n",
       "\n",
       "    .dataframe tbody tr th {\n",
       "        vertical-align: top;\n",
       "    }\n",
       "</style>\n",
       "<table border=\"1\" class=\"dataframe\">\n",
       "  <thead>\n",
       "    <tr style=\"text-align: right;\">\n",
       "      <th></th>\n",
       "      <th>country</th>\n",
       "      <th>year</th>\n",
       "      <th>age</th>\n",
       "      <th>sex</th>\n",
       "      <th>suicides_no</th>\n",
       "      <th>population</th>\n",
       "    </tr>\n",
       "  </thead>\n",
       "  <tbody>\n",
       "    <tr>\n",
       "      <th>0</th>\n",
       "      <td>Argentina</td>\n",
       "      <td>1985</td>\n",
       "      <td>75+ years</td>\n",
       "      <td>male</td>\n",
       "      <td>202</td>\n",
       "      <td>363000</td>\n",
       "    </tr>\n",
       "    <tr>\n",
       "      <th>1</th>\n",
       "      <td>Argentina</td>\n",
       "      <td>1985</td>\n",
       "      <td>55-74 years</td>\n",
       "      <td>male</td>\n",
       "      <td>485</td>\n",
       "      <td>1997000</td>\n",
       "    </tr>\n",
       "    <tr>\n",
       "      <th>2</th>\n",
       "      <td>Argentina</td>\n",
       "      <td>1985</td>\n",
       "      <td>35-54 years</td>\n",
       "      <td>male</td>\n",
       "      <td>414</td>\n",
       "      <td>3346300</td>\n",
       "    </tr>\n",
       "    <tr>\n",
       "      <th>...</th>\n",
       "      <td>...</td>\n",
       "      <td>...</td>\n",
       "      <td>...</td>\n",
       "      <td>...</td>\n",
       "      <td>...</td>\n",
       "      <td>...</td>\n",
       "    </tr>\n",
       "    <tr>\n",
       "      <th>2527</th>\n",
       "      <td>United States</td>\n",
       "      <td>2015</td>\n",
       "      <td>75+ years</td>\n",
       "      <td>female</td>\n",
       "      <td>540</td>\n",
       "      <td>11778666</td>\n",
       "    </tr>\n",
       "    <tr>\n",
       "      <th>2528</th>\n",
       "      <td>United States</td>\n",
       "      <td>2015</td>\n",
       "      <td>5-14 years</td>\n",
       "      <td>male</td>\n",
       "      <td>255</td>\n",
       "      <td>21273987</td>\n",
       "    </tr>\n",
       "    <tr>\n",
       "      <th>2529</th>\n",
       "      <td>United States</td>\n",
       "      <td>2015</td>\n",
       "      <td>5-14 years</td>\n",
       "      <td>female</td>\n",
       "      <td>158</td>\n",
       "      <td>20342901</td>\n",
       "    </tr>\n",
       "  </tbody>\n",
       "</table>\n",
       "<p>2530 rows × 6 columns</p>\n",
       "</div>"
      ],
      "text/plain": [
       "            country  year          age     sex suicides_no population\n",
       "0         Argentina  1985    75+ years    male         202     363000\n",
       "1         Argentina  1985  55-74 years    male         485    1997000\n",
       "2         Argentina  1985  35-54 years    male         414    3346300\n",
       "...             ...   ...          ...     ...         ...        ...\n",
       "2527  United States  2015    75+ years  female         540   11778666\n",
       "2528  United States  2015   5-14 years    male         255   21273987\n",
       "2529  United States  2015   5-14 years  female         158   20342901\n",
       "\n",
       "[2530 rows x 6 columns]"
      ]
     },
     "execution_count": 19,
     "metadata": {},
     "output_type": "execute_result"
    }
   ],
   "source": [
    "year = df_sex['year'].unique()\n",
    "#print(year)\n",
    "count_male = 0\n",
    "conut_female = 0\n",
    "#df_sex\n",
    "for i in range(len(df_sex)):\n",
    "    if df_sex.loc[i,\"country\"] == 'Argentina':\n",
    "        if df_sex.loc[i,\"sex\"] == \"male\":\n",
    "            count_male += df_sex.loc[i,\"suicides_no\"]\n",
    "        else:\n",
    "            conut_female += df_sex.loc[i,\"suicides_no\"]\n",
    "print(count_male)\n",
    "print(conut_female)\n",
    "df_sex"
   ]
  },
  {
   "cell_type": "markdown",
   "metadata": {
    "collapsed": true
   },
   "source": [
    "# Data Visualization"
   ]
  },
  {
   "cell_type": "code",
   "execution_count": 20,
   "metadata": {
    "collapsed": true
   },
   "outputs": [],
   "source": [
    "# Configure Seaborn\n",
    "sns.set()\n",
    "sns.set_context('talk')\n",
    "\n",
    "# Set max number of displayed rows/columns\n",
    "pd.options.display.max_rows = 7\n",
    "pd.options.display.max_columns = 8\n",
    "\n",
    "# Round decimals when displaying DataFrames\n",
    "pd.set_option('precision', 2)"
   ]
  },
  {
   "cell_type": "code",
   "execution_count": 21,
   "metadata": {},
   "outputs": [
    {
     "data": {
      "text/plain": [
       "(0, 700)"
      ]
     },
     "execution_count": 21,
     "metadata": {},
     "output_type": "execute_result"
    }
   ],
   "source": [
    "# Sex+Age vs Suicide Rates\n",
    "# Age ranges: 5-14(range a), 15-24(range b), 25-34(range c), 35-54(range d), 55-74(range e), 75+(range f)\n",
    "\n",
    "df_sex_2015 = df_sex[df_sex['year'] == 2015]\n",
    "df_sex_argentina = df_sex_2015[df_sex_2015['country'] == 'Argentina']\n",
    "\n",
    "count_male_a = 0\n",
    "count_male_b = 0\n",
    "count_male_c = 0\n",
    "count_male_d = 0\n",
    "count_male_e = 0\n",
    "count_male_f = 0\n",
    "\n",
    "#df_sex\n",
    "df_male_ARG = df_sex_argentina[df_sex_argentina['sex'] == 'male']\n",
    "\n",
    "for index, row in df_male_ARG.iterrows():\n",
    "    if(row['age'] == '75+ years'):\n",
    "        count_male_f += row['suicides_no']\n",
    "    elif(row['age'] == '55-74 years'):\n",
    "        count_male_e += row['suicides_no']\n",
    "    elif(row['age'] == '35-54 years'):\n",
    "        count_male_d += row['suicides_no']\n",
    "    elif(row['age'] == '25-34 years'):\n",
    "        count_male_c += row['suicides_no']\n",
    "    elif(row['age'] == '15-24 years'):\n",
    "        count_male_b += row['suicides_no']\n",
    "    elif(row['age'] == '5-14 years'):\n",
    "        count_male_a += row['suicides_no']\n",
    "    else:\n",
    "        print(\"fail to find age within range!\")\n",
    "        \n",
    "#print(\"count 5-14:\", count_male_a, \"count 15-24:\", count_male_b, \"count 25-34:\", count_male_c, \"count 35-54:\", count_male_d, \"count 55_74:\", count_male_e, \"count 75+:\", count_male_f)\n",
    "\n",
    "count_dict = {'Group':['5-14', '15-24', '25-34', '35-54', '55-74', '75+'], \n",
    "              'Count':[count_male_a, count_male_b, count_male_c, count_male_d, count_male_e, count_male_f]} \n",
    "counts = pd.DataFrame(count_dict)\n",
    "plt.bar(counts.Group, height = counts.Count)\n",
    "plt.title(\"Number of Male suicides by Age Range in Argentina (2015)\")\n",
    "plt.ylim(0, 700)\n"
   ]
  },
  {
   "cell_type": "code",
   "execution_count": 23,
   "metadata": {},
   "outputs": [
    {
     "data": {
      "text/plain": [
       "(0, 700)"
      ]
     },
     "execution_count": 23,
     "metadata": {},
     "output_type": "execute_result"
    }
   ],
   "source": [
    "count_female_a = 0\n",
    "count_female_b = 0\n",
    "count_female_c = 0\n",
    "count_female_d = 0\n",
    "count_female_e = 0\n",
    "count_female_f = 0\n",
    "\n",
    "#df_sex\n",
    "df_female_ARG = df_sex_argentina[df_sex_argentina['sex'] == 'female']\n",
    "\n",
    "for index, row in df_female_ARG.iterrows():\n",
    "    if(row['age'] == '75+ years'):\n",
    "        count_female_f += row['suicides_no']\n",
    "    elif(row['age'] == '55-74 years'):\n",
    "        count_female_e += row['suicides_no']\n",
    "    elif(row['age'] == '35-54 years'):\n",
    "        count_female_d += row['suicides_no']\n",
    "    elif(row['age'] == '25-34 years'):\n",
    "        count_female_c += row['suicides_no']\n",
    "    elif(row['age'] == '15-24 years'):\n",
    "        count_female_b += row['suicides_no']\n",
    "    elif(row['age'] == '5-14 years'):\n",
    "        count_female_a += row['suicides_no']\n",
    "    else:\n",
    "        print(\"fail to find age within range!\")\n",
    "        \n",
    "#print(\"count 5-14:\", count_female_a, \"count 15-24:\", count_female_b, \"count 25-34:\", count_female_c, \"count 35-54:\", count_female_d, \"count 55_74:\", count_female_e, \"count 75+:\", count_female_f)\n",
    "\n",
    "count_dict = {'Group':['5-14', '15-24', '25-34', '35-54', '55-74', '75+'], \n",
    "              'Count':[count_female_a, count_female_b, count_female_c, count_female_d, count_female_e, count_female_f]} \n",
    "counts = pd.DataFrame(count_dict)\n",
    "plt.bar(counts.Group, height = counts.Count)\n",
    "plt.title(\"Number of Female suicides by Age Range in Argentina (2015)\")\n",
    "plt.ylim(0, 700)"
   ]
  },
  {
   "cell_type": "code",
   "execution_count": 24,
   "metadata": {},
   "outputs": [
    {
     "name": "stdout",
     "output_type": "stream",
     "text": [
      "                       gdp  ratio\n",
      "country                          \n",
      "Antigua and Barbuda   9.14     15\n",
      "Argentina            11.77    112\n",
      "Armenia              10.02     45\n",
      "...                    ...    ...\n",
      "United Kingdom       12.46     86\n",
      "United States        13.26    175\n",
      "Uruguay              10.73    270\n",
      "\n",
      "[62 rows x 2 columns]\n"
     ]
    },
    {
     "data": {
      "image/png": "[encoded data removed]",
      "text/plain": [
       "<Figure size 360x360 with 1 Axes>"
      ]
     },
     "metadata": {},
     "output_type": "display_data"
    }
   ],
   "source": [
    "# GDP vs Suicide Rate\n",
    "# ARG_gdp = df_gdp[df_gdp['country'] == 'Argentina']\n",
    "# year = df_gdp['year'].unique()\n",
    "# print(year)\n",
    "# GDP vs Suicide Rate for 2016\n",
    "#df_gdp = df[['country','year','suicides_no','population',' gdp_for_year ($) ','gdp_per_capita ($)']]\n",
    "#year = df_sex['year'].unique()\n",
    "#year = 2016\n",
    "#country = df_gdp['country'].unique()\n",
    "suicide_gdp = suicide_gdp[suicide_gdp.year == 2015]\n",
    "#df_gdp\n",
    "#print(suicide_gdp['country'].unique())\n",
    "#suicide_gdp[suicide_gdp['country']=='Antigua and Barbuda']\n",
    "tmp1 = suicide_gdp['country'].unique()\n",
    "result1 = dict()\n",
    "for i in tmp1:\n",
    "    result1[i] = 0\n",
    "result2 = dict()\n",
    "for i in tmp1:\n",
    "    result2[i] = 0\n",
    "for i in suicide_gdp.index:\n",
    "    country = suicide_gdp.loc[i,\"country\"]\n",
    "    ratio = suicide_gdp.loc[i,'suicides/100k pop']\n",
    "    gdp = suicide_gdp.loc[i,' gdp_for_year ($) ']\n",
    "    result1[country]+= ratio\n",
    "    result2[country] = gdp\n",
    "country=list()\n",
    "ratiolist = list()\n",
    "gdplist = list()\n",
    "import math\n",
    "for i in tmp1:\n",
    "    ratio = result1[i]\n",
    "    gdp = result2[i]\n",
    "    country.append(i)\n",
    "    ratiolist.append(int(ratio))\n",
    "    gdp = gdp.replace(',','')\n",
    "    gdplist.append(math.log10(int(gdp)))\n",
    "data= dict()\n",
    "data = {\"country\":country,\"ratio\":ratiolist,\"gdp\":gdplist}\n",
    "\n",
    "df1 = pd.DataFrame(data)\n",
    "\n",
    "#print(ratiolist)\n",
    "#print(gdplist)\n",
    "df1=df1.set_index(\"country\")\n",
    "print(df1)\n",
    "import seaborn as sns\n",
    "%matplotlib inline\n",
    "sns.lmplot(x='gdp', y='ratio', data=df1,fit_reg=False);\n"
   ]
  },
  {
   "cell_type": "code",
   "execution_count": 25,
   "metadata": {},
   "outputs": [
    {
     "name": "stdout",
     "output_type": "stream",
     "text": [
      "                   country  year  suicides_no  suicides/100k pop  population  \\\n",
      "564    Antigua and Barbuda  2014            0               0.00        8537   \n",
      "565    Antigua and Barbuda  2014            0               0.00        7578   \n",
      "566    Antigua and Barbuda  2014            0               0.00       15273   \n",
      "...                    ...   ...          ...                ...         ...   \n",
      "27817           Uzbekistan  2014           60               2.17     2762158   \n",
      "27818           Uzbekistan  2014           44               1.67     2631600   \n",
      "27819           Uzbekistan  2014           21               1.46     1438935   \n",
      "\n",
      "       HDI for year  \n",
      "564            0.78  \n",
      "565            0.78  \n",
      "566            0.78  \n",
      "...             ...  \n",
      "27817          0.68  \n",
      "27818          0.68  \n",
      "27819          0.68  \n",
      "\n",
      "[900 rows x 6 columns]\n",
      "                country   hdi  ratio\n",
      "0   Antigua and Barbuda -0.11      0\n",
      "1             Argentina -0.08    111\n",
      "2               Armenia -0.13     37\n",
      "..                  ...   ...    ...\n",
      "72        United States -0.04    171\n",
      "73              Uruguay -0.10    248\n",
      "74           Uzbekistan -0.17     85\n",
      "\n",
      "[75 rows x 3 columns]\n"
     ]
    },
    {
     "data": {
      "image/png": "[encoded data removed]",
      "text/plain": [
       "<Figure size 360x360 with 1 Axes>"
      ]
     },
     "metadata": {},
     "output_type": "display_data"
    }
   ],
   "source": [
    "# HDI vs Suicide Rate for 2016\n",
    "#HDI vs Suicide Rate for 2014\n",
    "suicide_hdi = suicide_hdi[suicide_hdi.year == 2014]\n",
    "print(suicide_hdi)\n",
    "tmp1 = suicide_hdi['country'].unique()\n",
    "result3 = dict()\n",
    "for i in tmp1:\n",
    "    result3[i] = 0\n",
    "\n",
    "result4 = dict()\n",
    "for i in tmp1:\n",
    "    result4[i] = 0\n",
    "\n",
    "for i in suicide_hdi.index:\n",
    "    country = suicide_hdi.loc[i,\"country\"]\n",
    "    ratio = suicide_hdi.loc[i,'suicides/100k pop']\n",
    "    hdi = suicide_hdi.loc[i,'HDI for year']\n",
    "    result3[country]+= ratio\n",
    "    result4[country] = hdi\n",
    "country=list()\n",
    "ratiolist2 = list()\n",
    "hdilist = list()\n",
    "#print(result3)\n",
    "#print(result4)\n",
    "import math\n",
    "for i in tmp1:\n",
    "    ratio = result3[i]\n",
    "    hdi = result4[i]\n",
    "    country.append(i)\n",
    "    ratiolist2.append(int(ratio))\n",
    "    #hdi = hdi.replace(',','')\n",
    "    hdilist.append(math.log10(float(hdi)))\n",
    "data= dict()\n",
    "data = {\"country\":country,\"ratio\":ratiolist2,\"hdi\":hdilist}\n",
    "#print(data)\n",
    "#print(len(country))\n",
    "#print(len(ratiolist2))\n",
    "#print(len(hdilist))\n",
    "df2 = pd.DataFrame(data)\n",
    "print(df2)\n",
    "#print(ratiolist)\n",
    "#print(gdplist)\n",
    "df2=df2.set_index(\"country\")\n",
    "#print(df1)\n",
    "import seaborn as sns\n",
    "%matplotlib inline\n",
    "sns.lmplot(x='hdi', y='ratio', data=df2,fit_reg=False);\n"
   ]
  },
  {
   "cell_type": "code",
   "execution_count": null,
   "metadata": {
    "collapsed": true
   },
   "outputs": [],
   "source": []
  }
 ],
 "metadata": {
  "kernelspec": {
   "display_name": "Python 3",
   "language": "python",
   "name": "python3"
  },
  "language_info": {
   "codemirror_mode": {
    "name": "ipython",
    "version": 3
   },
   "file_extension": ".py",
   "mimetype": "text/x-python",
   "name": "python",
   "nbconvert_exporter": "python",
   "pygments_lexer": "ipython3",
   "version": "3.6.3"
  }
 },
 "nbformat": 4,
 "nbformat_minor": 2
}
