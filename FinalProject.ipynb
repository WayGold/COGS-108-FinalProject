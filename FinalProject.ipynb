{
 "cells": [
  {
   "cell_type": "markdown",
   "metadata": {},
   "source": [
    "# COGS 108 Final Project\n",
    "\n",
    "Team Members: Thalal Cassim, Kevin Chen, Yongji Shen, Ansuman Somasundaram, Wei Zeng"
   ]
  },
  {
   "cell_type": "markdown",
   "metadata": {},
   "source": [
    "# Data Wrangling"
   ]
  },
  {
   "cell_type": "code",
   "execution_count": 55,
   "metadata": {
    "collapsed": true
   },
   "outputs": [],
   "source": [
    "import numpy as np\n",
    "import pandas as pd\n",
    "import matplotlib.pyplot as plt\n",
    "import seaborn as sns"
   ]
  },
  {
   "cell_type": "code",
   "execution_count": 56,
   "metadata": {},
   "outputs": [],
   "source": [
    "# read from data set\n",
    "suicide = pd.read_csv(\"./datasets/suicide-rates-overview-1985-to-2016.csv\")"
   ]
  },
  {
   "cell_type": "code",
   "execution_count": 57,
   "metadata": {
    "collapsed": true
   },
   "outputs": [],
   "source": [
    "#select data from those following countries from our data set\n",
    "selected = [\"Canada\",\"United States\",\"United Kingdom\",\"Australia\",'Argentina',\"Thailand\",\"Sri Lanka\",\"South Africa\"]\n",
    "tmp = list()   \n",
    "for i in (suicide.index):\n",
    "    for country in selected:\n",
    "        if suicide.loc[i,\"country\"]==country:\n",
    "            tmp.append(suicide.loc[i].tolist())\n",
    "df = pd.DataFrame(columns = suicide.columns)\n",
    "for i in tmp:\n",
    "    df = df.append(pd.Series(i, index=suicide.columns), ignore_index=True)"
   ]
  },
  {
   "cell_type": "code",
   "execution_count": 58,
   "metadata": {},
   "outputs": [],
   "source": [
    "#suicide.isnull().any()\n",
    "suicideHDI = suicide.dropna()\n",
    "\n",
    "dfHDI = df.dropna()"
   ]
  },
  {
   "cell_type": "code",
   "execution_count": 60,
   "metadata": {},
   "outputs": [],
   "source": [
    "#sex,age,dgc,and hdi for all countries\n",
    "suicide_sex = suicide[['country','year','sex','suicides_no','population']]\n",
    "suicide_age = suicide[['country','year','age','suicides_no','population']]\n",
    "suicide_gdp = suicide[['country','year','suicides_no','population',' gdp_for_year ($) ','gdp_per_capita ($)']]\n",
    "suicide_hdi = suicideHDI[['country','year','suicides_no','population','HDI for year']]"
   ]
  },
  {
   "cell_type": "code",
   "execution_count": 64,
   "metadata": {
    "collapsed": true
   },
   "outputs": [],
   "source": [
    "#sex,age,dgc,and hdi for selected countries \n",
    "#(\"Canada\",\"United States\",\"United Kingdom\",\"Australia\",'Argentina',\"Thailand\",\"Sri Lanka\",\"South Africa\")\n",
    "df_sex = df[['country','year','sex','suicides_no','population']]\n",
    "df_age = df[['country','year','age','suicides_no','population']]\n",
    "df_gdp = df[['country','year','suicides_no','population',' gdp_for_year ($) ','gdp_per_capita ($)']]\n",
    "df_hdi = dfHDI[['country','year','suicides_no','population','HDI for year']]"
   ]
  },
  {
   "cell_type": "code",
   "execution_count": 81,
   "metadata": {},
   "outputs": [
    {
     "name": "stdout",
     "output_type": "stream",
     "text": [
      "63893\n",
      "18326\n"
     ]
    },
    {
     "data": {
      "text/html": [
       "<div>\n",
       "<style>\n",
       "    .dataframe thead tr:only-child th {\n",
       "        text-align: right;\n",
       "    }\n",
       "\n",
       "    .dataframe thead th {\n",
       "        text-align: left;\n",
       "    }\n",
       "\n",
       "    .dataframe tbody tr th {\n",
       "        vertical-align: top;\n",
       "    }\n",
       "</style>\n",
       "<table border=\"1\" class=\"dataframe\">\n",
       "  <thead>\n",
       "    <tr style=\"text-align: right;\">\n",
       "      <th></th>\n",
       "      <th>country</th>\n",
       "      <th>year</th>\n",
       "      <th>sex</th>\n",
       "      <th>suicides_no</th>\n",
       "      <th>population</th>\n",
       "    </tr>\n",
       "  </thead>\n",
       "  <tbody>\n",
       "    <tr>\n",
       "      <th>0</th>\n",
       "      <td>Argentina</td>\n",
       "      <td>1985</td>\n",
       "      <td>male</td>\n",
       "      <td>202</td>\n",
       "      <td>363000</td>\n",
       "    </tr>\n",
       "    <tr>\n",
       "      <th>1</th>\n",
       "      <td>Argentina</td>\n",
       "      <td>1985</td>\n",
       "      <td>male</td>\n",
       "      <td>485</td>\n",
       "      <td>1997000</td>\n",
       "    </tr>\n",
       "    <tr>\n",
       "      <th>2</th>\n",
       "      <td>Argentina</td>\n",
       "      <td>1985</td>\n",
       "      <td>male</td>\n",
       "      <td>414</td>\n",
       "      <td>3346300</td>\n",
       "    </tr>\n",
       "    <tr>\n",
       "      <th>...</th>\n",
       "      <td>...</td>\n",
       "      <td>...</td>\n",
       "      <td>...</td>\n",
       "      <td>...</td>\n",
       "      <td>...</td>\n",
       "    </tr>\n",
       "    <tr>\n",
       "      <th>2527</th>\n",
       "      <td>United States</td>\n",
       "      <td>2015</td>\n",
       "      <td>female</td>\n",
       "      <td>540</td>\n",
       "      <td>11778666</td>\n",
       "    </tr>\n",
       "    <tr>\n",
       "      <th>2528</th>\n",
       "      <td>United States</td>\n",
       "      <td>2015</td>\n",
       "      <td>male</td>\n",
       "      <td>255</td>\n",
       "      <td>21273987</td>\n",
       "    </tr>\n",
       "    <tr>\n",
       "      <th>2529</th>\n",
       "      <td>United States</td>\n",
       "      <td>2015</td>\n",
       "      <td>female</td>\n",
       "      <td>158</td>\n",
       "      <td>20342901</td>\n",
       "    </tr>\n",
       "  </tbody>\n",
       "</table>\n",
       "<p>2530 rows × 5 columns</p>\n",
       "</div>"
      ],
      "text/plain": [
       "            country  year     sex suicides_no population\n",
       "0         Argentina  1985    male         202     363000\n",
       "1         Argentina  1985    male         485    1997000\n",
       "2         Argentina  1985    male         414    3346300\n",
       "...             ...   ...     ...         ...        ...\n",
       "2527  United States  2015  female         540   11778666\n",
       "2528  United States  2015    male         255   21273987\n",
       "2529  United States  2015  female         158   20342901\n",
       "\n",
       "[2530 rows x 5 columns]"
      ]
     },
     "execution_count": 81,
     "metadata": {},
     "output_type": "execute_result"
    }
   ],
   "source": [
    "year = df_sex['year'].unique()\n",
    "#print(year)\n",
    "count_male = 0\n",
    "conut_female = 0\n",
    "#df_sex\n",
    "for i in range(len(df_sex)):\n",
    "    if df_sex.loc[i,\"country\"] == 'Argentina':\n",
    "        if df_sex.loc[i,\"sex\"] == \"male\":\n",
    "            count_male += df_sex.loc[i,\"suicides_no\"]\n",
    "        else:\n",
    "            conut_female += df_sex.loc[i,\"suicides_no\"]\n",
    "print(count_male)\n",
    "print(conut_female)\n",
    "df_sex"
   ]
  },
  {
   "cell_type": "markdown",
   "metadata": {
    "collapsed": true
   },
   "source": [
    "# Data Visualization"
   ]
  },
  {
   "cell_type": "code",
   "execution_count": 62,
   "metadata": {
    "collapsed": true
   },
   "outputs": [],
   "source": [
    "# Configure Seaborn\n",
    "sns.set()\n",
    "sns.set_context('talk')\n",
    "\n",
    "# Set max number of displayed rows/columns\n",
    "pd.options.display.max_rows = 7\n",
    "pd.options.display.max_columns = 8\n",
    "\n",
    "# Round decimals when displaying DataFrames\n",
    "pd.set_option('precision', 2)"
   ]
  },
  {
   "cell_type": "code",
   "execution_count": 63,
   "metadata": {},
   "outputs": [
    {
     "ename": "NameError",
     "evalue": "name 'Fortnite_df' is not defined",
     "output_type": "error",
     "traceback": [
      "\u001b[0;31m---------------------------------------------------------------------------\u001b[0m",
      "\u001b[0;31mNameError\u001b[0m                                 Traceback (most recent call last)",
      "\u001b[0;32m<ipython-input-63-3a98fe821b1f>\u001b[0m in \u001b[0;36m<module>\u001b[0;34m()\u001b[0m\n\u001b[0;32m----> 1\u001b[0;31m \u001b[0mFortnite_df\u001b[0m\u001b[0;34m[\u001b[0m\u001b[0;34m'winter.GPA'\u001b[0m\u001b[0;34m]\u001b[0m\u001b[0;34m.\u001b[0m\u001b[0mplot\u001b[0m\u001b[0;34m(\u001b[0m\u001b[0;34m'hist'\u001b[0m\u001b[0;34m,\u001b[0m \u001b[0mbins\u001b[0m \u001b[0;34m=\u001b[0m \u001b[0;36m25\u001b[0m\u001b[0;34m)\u001b[0m\u001b[0;34m\u001b[0m\u001b[0m\n\u001b[0m\u001b[1;32m      2\u001b[0m \u001b[0mf1\u001b[0m \u001b[0;34m=\u001b[0m \u001b[0mplt\u001b[0m\u001b[0;34m.\u001b[0m\u001b[0mgcf\u001b[0m\u001b[0;34m(\u001b[0m\u001b[0;34m)\u001b[0m\u001b[0;34m\u001b[0m\u001b[0m\n",
      "\u001b[0;31mNameError\u001b[0m: name 'Fortnite_df' is not defined"
     ]
    }
   ],
   "source": [
    "Fortnite_df['winter.GPA'].plot('hist', bins = 25)\n",
    "f1 = plt.gcf()"
   ]
  },
  {
   "cell_type": "code",
   "execution_count": null,
   "metadata": {},
   "outputs": [],
   "source": [
    "Fortnite_df['cumulative GPA? '].plot('hist', bins = 25)\n",
    "f2 = plt.gcf()"
   ]
  },
  {
   "cell_type": "code",
   "execution_count": null,
   "metadata": {},
   "outputs": [],
   "source": [
    "Fortnite_df['total.time'].plot('hist', bins = 25)\n",
    "f3 = plt.gcf()"
   ]
  },
  {
   "cell_type": "code",
   "execution_count": null,
   "metadata": {},
   "outputs": [],
   "source": [
    "pd.plotting.scatter_matrix(Fortnite_df[['winter.GPA', 'cumulative GPA? ', 'total.time']], figsize = (10, 10))\n",
    "f4 = plt.gcf()"
   ]
  },
  {
   "cell_type": "code",
   "execution_count": null,
   "metadata": {},
   "outputs": [],
   "source": [
    "Sales['Global_Sales'].plot('hist', bins = 25)\n",
    "f5 = plt.gcf()"
   ]
  },
  {
   "cell_type": "code",
   "execution_count": null,
   "metadata": {},
   "outputs": [],
   "source": [
    "print(Sales['User_Score'])\n",
    "Sales['User_Score'].plot('hist', bins = 25)\n",
    "f6 = plt.gcf()"
   ]
  },
  {
   "cell_type": "code",
   "execution_count": null,
   "metadata": {},
   "outputs": [],
   "source": [
    "Sales['User_Count'].plot('hist', bins = 25)\n",
    "f7 = plt.gcf()"
   ]
  },
  {
   "cell_type": "code",
   "execution_count": null,
   "metadata": {},
   "outputs": [],
   "source": [
    "pd.plotting.scatter_matrix(Sales[['Global_Sales', 'User_Score', 'User_Count']], figsize = (10, 10))\n",
    "f8 = plt.gcf()"
   ]
  },
  {
   "cell_type": "code",
   "execution_count": null,
   "metadata": {
    "collapsed": true
   },
   "outputs": [],
   "source": [
    "# Try correlation btwn year/sales, year/scores, sales/scores and vice versa\n"
   ]
  }
 ],
 "metadata": {
  "kernelspec": {
   "display_name": "Python 3",
   "language": "python",
   "name": "python3"
  }
 },
 "nbformat": 4,
 "nbformat_minor": 2
}
