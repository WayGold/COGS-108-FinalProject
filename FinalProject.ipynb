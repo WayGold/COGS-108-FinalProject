{
 "cells": [
  {
   "cell_type": "markdown",
   "metadata": {},
   "source": [
    "# COGS 108 Final Project\n",
    "\n",
    "Team Members: Thalal Cassim, Kevin Chen, Yongji Shen, Ansuman Somasundaram, Wei Zeng"
   ]
  },
  {
   "cell_type": "markdown",
   "metadata": {},
   "source": [
    "## Grading Rubric For Ur Reference\n",
    "https://github.com/COGS108/Projects/blob/master/FinalProj_Checklist.pdf"
   ]
  },
  {
   "cell_type": "markdown",
   "metadata": {},
   "source": [
    "# Introduction and Background"
   ]
  },
  {
   "cell_type": "markdown",
   "metadata": {},
   "source": [
    "# Data Description"
   ]
  },
  {
   "cell_type": "markdown",
   "metadata": {},
   "source": [
    "# Data Cleaning & Pre-processing"
   ]
  },
  {
   "cell_type": "code",
   "execution_count": 16,
   "metadata": {
    "collapsed": true
   },
   "outputs": [],
   "source": [
    "import numpy as np\n",
    "import pandas as pd\n",
    "import matplotlib.pyplot as plt\n",
    "import seaborn as sns\n",
    "%matplotlib inline"
   ]
  },
  {
   "cell_type": "code",
   "execution_count": 2,
   "metadata": {
    "collapsed": true
   },
   "outputs": [],
   "source": [
    "# read from data set\n",
    "suicide = pd.read_csv(\"./datasets/suicide-rates-overview-1985-to-2016.csv\")"
   ]
  },
  {
   "cell_type": "code",
   "execution_count": 3,
   "metadata": {
    "collapsed": true
   },
   "outputs": [],
   "source": [
    "#select data from those following countries from our data set\n",
    "selected = [\"Canada\",\"United States\",\"United Kingdom\",\"Australia\",'Argentina',\"Thailand\",\"Sri Lanka\",\"South Africa\"]\n",
    "tmp = list()   \n",
    "for i in (suicide.index):\n",
    "    for country in selected:\n",
    "        if suicide.loc[i,\"country\"]==country:\n",
    "            tmp.append(suicide.loc[i].tolist())\n",
    "df = pd.DataFrame(columns = suicide.columns)\n",
    "for i in tmp:\n",
    "    df = df.append(pd.Series(i, index=suicide.columns), ignore_index=True)"
   ]
  },
  {
   "cell_type": "code",
   "execution_count": 4,
   "metadata": {
    "collapsed": true
   },
   "outputs": [],
   "source": [
    "#suicide.isnull().any()\n",
    "suicideHDI = suicide.dropna()\n",
    "\n",
    "dfHDI = df.dropna()"
   ]
  },
  {
   "cell_type": "code",
   "execution_count": 5,
   "metadata": {
    "collapsed": true
   },
   "outputs": [],
   "source": [
    "#sex,age,dgc,and hdi for all countries\n",
    "suicide_sex = suicide[['country','year','sex','suicides_no','population']]\n",
    "suicide_age = suicide[['country','year','age','suicides_no','population']]\n",
    "suicide_gdp = suicide[['country','year','suicides_no','population','suicides/100k pop',' gdp_for_year ($) ','gdp_per_capita ($)']]\n",
    "suicide_hdi = suicideHDI[['country','year','suicides_no','suicides/100k pop','population','HDI for year']]"
   ]
  },
  {
   "cell_type": "code",
   "execution_count": 6,
   "metadata": {
    "collapsed": true
   },
   "outputs": [],
   "source": [
    "#sex,age,dgc,and hdi for selected countries \n",
    "#(\"Canada\",\"United States\",\"United Kingdom\",\"Australia\",'Argentina',\"Thailand\",\"Sri Lanka\",\"South Africa\")\n",
    "df_sex = df[['country','year','age','sex','suicides_no','population']]\n",
    "df_age = df[['country','year','age','suicides_no','population']]\n",
    "df_gdp = df[['country','year','suicides_no','population','suicides/100k pop',' gdp_for_year ($) ','gdp_per_capita ($)']]\n",
    "df_hdi = dfHDI[['country','year','suicides_no','suicides/100k pop','population','HDI for year']]"
   ]
  },
  {
   "cell_type": "code",
   "execution_count": 27,
   "metadata": {},
   "outputs": [],
   "source": [
    "year = df_sex['year'].unique()\n",
    "#print(year)\n",
    "count_male = 0\n",
    "conut_female = 0\n",
    "#df_sex\n",
    "for i in range(len(df_sex)):\n",
    "    if df_sex.loc[i,\"country\"] == 'Argentina':\n",
    "        if df_sex.loc[i,\"sex\"] == \"male\":\n",
    "            count_male += df_sex.loc[i,\"suicides_no\"]\n",
    "        else:\n",
    "            conut_female += df_sex.loc[i,\"suicides_no\"]"
   ]
  },
  {
   "cell_type": "markdown",
   "metadata": {
    "collapsed": true
   },
   "source": [
    "# Data Visualization"
   ]
  },
  {
   "cell_type": "markdown",
   "metadata": {},
   "source": [
    "## Seaborn Config"
   ]
  },
  {
   "cell_type": "code",
   "execution_count": 8,
   "metadata": {
    "collapsed": true
   },
   "outputs": [],
   "source": [
    "# Configure Seaborn\n",
    "sns.set()\n",
    "sns.set_context('talk')\n",
    "\n",
    "# Set max number of displayed rows/columns\n",
    "pd.options.display.max_rows = 7\n",
    "pd.options.display.max_columns = 8\n",
    "\n",
    "# Round decimals when displaying DataFrames\n",
    "pd.set_option('precision', 2)"
   ]
  },
  {
   "cell_type": "markdown",
   "metadata": {},
   "source": [
    "# Sex vs Suicide Rate"
   ]
  },
  {
   "cell_type": "code",
   "execution_count": 28,
   "metadata": {},
   "outputs": [
    {
     "name": "stdout",
     "output_type": "stream",
     "text": [
      "          country  female   male\n",
      "0       Argentina     604   2469\n",
      "1       Australia     735   2292\n",
      "2    South Africa     105    377\n",
      "3        Thailand     839   3366\n",
      "4  United Kingdom    1178   3732\n",
      "5   United States   10199  33990\n"
     ]
    },
    {
     "data": {
      "text/plain": [
       "Text(0.5, 1.0, 'Sex vs Suicide Rate (2015)')"
      ]
     },
     "execution_count": 28,
     "metadata": {},
     "output_type": "execute_result"
    },
    {
     "data": {
      "image/png": "[encoded data removed]",
      "text/plain": [
       "<Figure size 432x288 with 1 Axes>"
      ]
     },
     "metadata": {},
     "output_type": "display_data"
    }
   ],
   "source": [
    "# Trying to look for the Sex vs Suicide Rate in 2015\n",
    "df_sex_2015 = df_sex[df_sex['year'] == 2015]\n",
    "male = df_sex_2015[df_sex_2015['sex'] == 'male']\n",
    "female = df_sex_2015[df_sex_2015['sex'] == 'female']\n",
    "tmp = list()\n",
    "male_country = dict()\n",
    "female_country = dict()\n",
    "for i in (male.index):\n",
    "    for country in selected:\n",
    "        if male.loc[i,\"country\"]==country:\n",
    "            if country in male_country:\n",
    "                male_country[country] += male.loc[i,'suicides_no']\n",
    "            else:\n",
    "                male_country[country] = male.loc[i,'suicides_no']\n",
    "for i in (female.index):\n",
    "    for country in selected:\n",
    "        if female.loc[i,\"country\"]==country:\n",
    "            if country in female_country:\n",
    "                female_country[country] += female.loc[i,'suicides_no']\n",
    "            else:\n",
    "                female_country[country] = female.loc[i,'suicides_no']\n",
    "country = list()\n",
    "male_count=list()\n",
    "female_count = list()\n",
    "for i in male_country:\n",
    "    country.append(i)\n",
    "    male_count.append(male_country[i])\n",
    "    female_count.append(female_country[i])\n",
    "d = {'country':country,'male': male_count, 'female': female_count}\n",
    "sex = pd.DataFrame(data = d)\n",
    "print(sex)\n",
    "sex.plot.bar(x = 'country', rot=30)\n",
    "plt.ylabel('suicides_no')\n",
    "plt.title('Sex vs Suicide Rate (2015)')"
   ]
  },
  {
   "cell_type": "markdown",
   "metadata": {},
   "source": [
    "## Sex + Age vs Suicide Rates"
   ]
  },
  {
   "cell_type": "code",
   "execution_count": 18,
   "metadata": {},
   "outputs": [
    {
     "data": {
      "text/plain": [
       "(0, 700)"
      ]
     },
     "execution_count": 18,
     "metadata": {},
     "output_type": "execute_result"
    },
    {
     "data": {
      "image/png": "[encoded data removed]",
      "text/plain": [
       "<Figure size 432x288 with 1 Axes>"
      ]
     },
     "metadata": {},
     "output_type": "display_data"
    }
   ],
   "source": [
    "# Sex+Age vs Suicide Rates\n",
    "# Age ranges: 5-14(range a), 15-24(range b), 25-34(range c), 35-54(range d), 55-74(range e), 75+(range f)\n",
    "\n",
    "df_sex_2015 = df_sex[df_sex['year'] == 2015]\n",
    "df_sex_argentina = df_sex_2015[df_sex_2015['country'] == 'Argentina']\n",
    "\n",
    "count_male_a = 0\n",
    "count_male_b = 0\n",
    "count_male_c = 0\n",
    "count_male_d = 0\n",
    "count_male_e = 0\n",
    "count_male_f = 0\n",
    "\n",
    "#df_sex\n",
    "df_male_ARG = df_sex_argentina[df_sex_argentina['sex'] == 'male']\n",
    "\n",
    "for index, row in df_male_ARG.iterrows():\n",
    "    if(row['age'] == '75+ years'):\n",
    "        count_male_f += row['suicides_no']\n",
    "    elif(row['age'] == '55-74 years'):\n",
    "        count_male_e += row['suicides_no']\n",
    "    elif(row['age'] == '35-54 years'):\n",
    "        count_male_d += row['suicides_no']\n",
    "    elif(row['age'] == '25-34 years'):\n",
    "        count_male_c += row['suicides_no']\n",
    "    elif(row['age'] == '15-24 years'):\n",
    "        count_male_b += row['suicides_no']\n",
    "    elif(row['age'] == '5-14 years'):\n",
    "        count_male_a += row['suicides_no']\n",
    "    else:\n",
    "        print(\"fail to find age within range!\")\n",
    "        \n",
    "#print(\"count 5-14:\", count_male_a, \"count 15-24:\", count_male_b, \"count 25-34:\", count_male_c, \"count 35-54:\", count_male_d, \"count 55_74:\", count_male_e, \"count 75+:\", count_male_f)\n",
    "\n",
    "count_dict = {'Group':['5-14', '15-24', '25-34', '35-54', '55-74', '75+'], \n",
    "              'Count':[count_male_a, count_male_b, count_male_c, count_male_d, count_male_e, count_male_f]} \n",
    "counts = pd.DataFrame(count_dict)\n",
    "plt.bar(counts.Group, height = counts.Count)\n",
    "plt.title(\"Number of Male suicides by Age Range in Argentina (2015)\")\n",
    "plt.ylim(0, 700)"
   ]
  },
  {
   "cell_type": "code",
   "execution_count": 19,
   "metadata": {},
   "outputs": [
    {
     "data": {
      "text/plain": [
       "(0, 700)"
      ]
     },
     "execution_count": 19,
     "metadata": {},
     "output_type": "execute_result"
    },
    {
     "data": {
      "image/png": "[encoded data removed]",
      "text/plain": [
       "<Figure size 432x288 with 1 Axes>"
      ]
     },
     "metadata": {},
     "output_type": "display_data"
    }
   ],
   "source": [
    "count_female_a = 0\n",
    "count_female_b = 0\n",
    "count_female_c = 0\n",
    "count_female_d = 0\n",
    "count_female_e = 0\n",
    "count_female_f = 0\n",
    "\n",
    "#df_sex\n",
    "df_female_ARG = df_sex_argentina[df_sex_argentina['sex'] == 'female']\n",
    "\n",
    "for index, row in df_female_ARG.iterrows():\n",
    "    if(row['age'] == '75+ years'):\n",
    "        count_female_f += row['suicides_no']\n",
    "    elif(row['age'] == '55-74 years'):\n",
    "        count_female_e += row['suicides_no']\n",
    "    elif(row['age'] == '35-54 years'):\n",
    "        count_female_d += row['suicides_no']\n",
    "    elif(row['age'] == '25-34 years'):\n",
    "        count_female_c += row['suicides_no']\n",
    "    elif(row['age'] == '15-24 years'):\n",
    "        count_female_b += row['suicides_no']\n",
    "    elif(row['age'] == '5-14 years'):\n",
    "        count_female_a += row['suicides_no']\n",
    "    else:\n",
    "        print(\"fail to find age within range!\")\n",
    "        \n",
    "#print(\"count 5-14:\", count_female_a, \"count 15-24:\", count_female_b, \"count 25-34:\", count_female_c, \"count 35-54:\", count_female_d, \"count 55_74:\", count_female_e, \"count 75+:\", count_female_f)\n",
    "\n",
    "count_dict = {'Group':['5-14', '15-24', '25-34', '35-54', '55-74', '75+'], \n",
    "              'Count':[count_female_a, count_female_b, count_female_c, count_female_d, count_female_e, count_female_f]} \n",
    "counts = pd.DataFrame(count_dict)\n",
    "plt.bar(counts.Group, height = counts.Count)\n",
    "plt.title(\"Number of Female suicides by Age Range in Argentina (2015)\")\n",
    "plt.ylim(0, 700)"
   ]
  },
  {
   "cell_type": "markdown",
   "metadata": {},
   "source": [
    "## GDP vs Suicide Rate"
   ]
  },
  {
   "cell_type": "code",
   "execution_count": 20,
   "metadata": {},
   "outputs": [
    {
     "name": "stdout",
     "output_type": "stream",
     "text": [
      "                       gdp  ratio\n",
      "country                          \n",
      "Antigua and Barbuda   9.14     15\n",
      "Argentina            11.77    112\n",
      "Armenia              10.02     45\n",
      "...                    ...    ...\n",
      "United Kingdom       12.46     86\n",
      "United States        13.26    175\n",
      "Uruguay              10.73    270\n",
      "\n",
      "[62 rows x 2 columns]\n"
     ]
    },
    {
     "data": {
      "image/png": "[encoded data removed]",
      "text/plain": [
       "<Figure size 432x288 with 1 Axes>"
      ]
     },
     "metadata": {},
     "output_type": "display_data"
    }
   ],
   "source": [
    "# Trying to look for  the GDP vs Suicide Rate for 2015\n",
    "suicide_gdp = suicide_gdp[suicide_gdp.year == 2015]\n",
    "tmp1 = suicide_gdp['country'].unique()\n",
    "result1 = dict()\n",
    "for i in tmp1:\n",
    "    result1[i] = 0\n",
    "result2 = dict()\n",
    "for i in tmp1:\n",
    "    result2[i] = 0\n",
    "for i in suicide_gdp.index:\n",
    "    country = suicide_gdp.loc[i,\"country\"]\n",
    "    ratio = suicide_gdp.loc[i,'suicides/100k pop']\n",
    "    gdp = suicide_gdp.loc[i,' gdp_for_year ($) ']\n",
    "    result1[country]+= ratio\n",
    "    result2[country] = gdp\n",
    "country=list()\n",
    "ratiolist = list()\n",
    "gdplist = list()\n",
    "import math\n",
    "for i in tmp1:\n",
    "    ratio = result1[i]\n",
    "    gdp = result2[i]\n",
    "    country.append(i)\n",
    "    ratiolist.append(int(ratio))\n",
    "    gdp = gdp.replace(',','')\n",
    "    gdplist.append(math.log10(int(gdp)))\n",
    "data= dict()\n",
    "data = {\"country\":country,\"ratio\":ratiolist,\"gdp\":gdplist}\n",
    "\n",
    "df1 = pd.DataFrame(data)\n",
    "df1=df1.set_index(\"country\")\n",
    "print(df1)\n",
    "df1['gdp'].plot('hist', bins = 25)\n",
    "plt.xlabel('GDP(log10)', fontsize=16)\n",
    "plt.title('GDP vs Suicide Rate for 2015')\n",
    "f2 = plt.gcf()"
   ]
  },
  {
   "cell_type": "code",
   "execution_count": 26,
   "metadata": {},
   "outputs": [
    {
     "data": {
      "image/png": "[encoded data removed]",
      "text/plain": [
       "<Figure size 360x360 with 1 Axes>"
      ]
     },
     "metadata": {},
     "output_type": "display_data"
    }
   ],
   "source": [
    "sns.lmplot(x='gdp', y='ratio', data=df1,fit_reg=False);"
   ]
  },
  {
   "cell_type": "code",
   "execution_count": 22,
   "metadata": {},
   "outputs": [
    {
     "name": "stdout",
     "output_type": "stream",
     "text": [
      "                country   hdi  ratio\n",
      "0   Antigua and Barbuda -0.11      0\n",
      "1             Argentina -0.08    111\n",
      "2               Armenia -0.13     37\n",
      "..                  ...   ...    ...\n",
      "72        United States -0.04    171\n",
      "73              Uruguay -0.10    248\n",
      "74           Uzbekistan -0.17     85\n",
      "\n",
      "[75 rows x 3 columns]\n"
     ]
    },
    {
     "data": {
      "image/png": "[encoded data removed]",
      "text/plain": [
       "<Figure size 432x288 with 1 Axes>"
      ]
     },
     "metadata": {},
     "output_type": "display_data"
    }
   ],
   "source": [
    "#HDI vs Suicide Rate for 2014\n",
    "suicide_hdi = suicide_hdi[suicide_hdi.year == 2014]\n",
    "tmp1 = suicide_hdi['country'].unique()\n",
    "result3 = dict()\n",
    "for i in tmp1:\n",
    "    result3[i] = 0\n",
    "\n",
    "result4 = dict()\n",
    "for i in tmp1:\n",
    "    result4[i] = 0\n",
    "\n",
    "for i in suicide_hdi.index:\n",
    "    country = suicide_hdi.loc[i,\"country\"]\n",
    "    ratio = suicide_hdi.loc[i,'suicides/100k pop']\n",
    "    hdi = suicide_hdi.loc[i,'HDI for year']\n",
    "    result3[country]+= ratio\n",
    "    result4[country] = hdi\n",
    "country=list()\n",
    "ratiolist2 = list()\n",
    "hdilist = list()\n",
    "import math\n",
    "for i in tmp1:\n",
    "    ratio = result3[i]\n",
    "    hdi = result4[i]\n",
    "    country.append(i)\n",
    "    ratiolist2.append(int(ratio))\n",
    "    hdilist.append(math.log10(float(hdi)))\n",
    "data= dict()\n",
    "data = {\"country\":country,\"ratio\":ratiolist2,\"hdi\":hdilist}\n",
    "df2 = pd.DataFrame(data)\n",
    "print (df2)\n",
    "df2=df2.set_index(\"country\")\n",
    "df2['hdi'].plot('hist', bins = 25)\n",
    "plt.xlabel('HDI(log10)', fontsize=16)\n",
    "plt.title('HDI vs Suicide Rate for 2014')\n",
    "f3 = plt.gcf()"
   ]
  },
  {
   "cell_type": "code",
   "execution_count": 23,
   "metadata": {},
   "outputs": [
    {
     "data": {
      "image/png": "[encoded data removed]",
      "text/plain": [
       "<Figure size 360x360 with 1 Axes>"
      ]
     },
     "metadata": {},
     "output_type": "display_data"
    }
   ],
   "source": [
    "%matplotlib inline\n",
    "sns.lmplot(x='hdi', y='ratio', data=df2,fit_reg=False);"
   ]
  },
  {
   "cell_type": "markdown",
   "metadata": {},
   "source": [
    "# Data Analysis & Results"
   ]
  },
  {
   "cell_type": "markdown",
   "metadata": {},
   "source": [
    "## OLS Regression Model For GDP vs Suicide Rate per 100K aka Ratio"
   ]
  },
  {
   "cell_type": "code",
   "execution_count": 24,
   "metadata": {},
   "outputs": [
    {
     "name": "stdout",
     "output_type": "stream",
     "text": [
      "                            OLS Regression Results                            \n",
      "==============================================================================\n",
      "Dep. Variable:                  ratio   R-squared:                       0.050\n",
      "Model:                            OLS   Adj. R-squared:                  0.034\n",
      "Method:                 Least Squares   F-statistic:                     3.173\n",
      "Date:                Mon, 03 Jun 2019   Prob (F-statistic):             0.0799\n",
      "Time:                        16:20:28   Log-Likelihood:                -361.65\n",
      "No. Observations:                  62   AIC:                             727.3\n",
      "Df Residuals:                      60   BIC:                             731.6\n",
      "Df Model:                           1                                         \n",
      "Covariance Type:            nonrobust                                         \n",
      "==============================================================================\n",
      "                 coef    std err          t      P>|t|      [0.025      0.975]\n",
      "------------------------------------------------------------------------------\n",
      "Intercept    -90.4529    125.705     -0.720      0.475    -341.899     160.994\n",
      "gdp           20.1154     11.293      1.781      0.080      -2.474      42.705\n",
      "==============================================================================\n",
      "Omnibus:                       11.240   Durbin-Watson:                   1.952\n",
      "Prob(Omnibus):                  0.004   Jarque-Bera (JB):               11.277\n",
      "Skew:                           0.962   Prob(JB):                      0.00356\n",
      "Kurtosis:                       3.816   Cond. No.                         132.\n",
      "==============================================================================\n",
      "\n",
      "Warnings:\n",
      "[1] Standard Errors assume that the covariance matrix of the errors is correctly specified.\n"
     ]
    },
    {
     "name": "stderr",
     "output_type": "stream",
     "text": [
      "/Users/yongjishen/anaconda3/lib/python3.6/site-packages/statsmodels/compat/pandas.py:56: FutureWarning: The pandas.core.datetools module is deprecated and will be removed in a future version. Please use the pandas.tseries module instead.\n",
      "  from pandas.core import datetools\n"
     ]
    }
   ],
   "source": [
    "import patsy\n",
    "import statsmodels.api as sm\n",
    "outcome_1, predictors_1 = patsy.dmatrices('ratio ~ gdp', df1)\n",
    "mod_1 = sm.OLS(outcome_1, predictors_1)\n",
    "type(mod_1)\n",
    "res_1 = mod_1.fit()\n",
    "print(res_1.summary())"
   ]
  },
  {
   "cell_type": "markdown",
   "metadata": {},
   "source": [
    "## OLS Regression Model For HDI vs Suicide Rate per 100K aka Ratio"
   ]
  },
  {
   "cell_type": "code",
   "execution_count": 25,
   "metadata": {},
   "outputs": [
    {
     "name": "stdout",
     "output_type": "stream",
     "text": [
      "                            OLS Regression Results                            \n",
      "==============================================================================\n",
      "Dep. Variable:                  ratio   R-squared:                       0.097\n",
      "Model:                            OLS   Adj. R-squared:                  0.084\n",
      "Method:                 Least Squares   F-statistic:                     7.801\n",
      "Date:                Mon, 03 Jun 2019   Prob (F-statistic):            0.00666\n",
      "Time:                        16:20:28   Log-Likelihood:                -433.64\n",
      "No. Observations:                  75   AIC:                             871.3\n",
      "Df Residuals:                      73   BIC:                             875.9\n",
      "Df Model:                           1                                         \n",
      "Covariance Type:            nonrobust                                         \n",
      "==============================================================================\n",
      "                 coef    std err          t      P>|t|      [0.025      0.975]\n",
      "------------------------------------------------------------------------------\n",
      "Intercept    181.4883     21.460      8.457      0.000     138.719     224.257\n",
      "hdi          572.7162    205.054      2.793      0.007     164.043     981.389\n",
      "==============================================================================\n",
      "Omnibus:                       16.716   Durbin-Watson:                   1.952\n",
      "Prob(Omnibus):                  0.000   Jarque-Bera (JB):               20.614\n",
      "Skew:                           1.021   Prob(JB):                     3.34e-05\n",
      "Kurtosis:                       4.557   Cond. No.                         22.5\n",
      "==============================================================================\n",
      "\n",
      "Warnings:\n",
      "[1] Standard Errors assume that the covariance matrix of the errors is correctly specified.\n"
     ]
    }
   ],
   "source": [
    "outcome_2, predictors_2 = patsy.dmatrices('ratio ~ hdi', df2)\n",
    "mod_2 = sm.OLS(outcome_2, predictors_2)\n",
    "type(mod_2)\n",
    "res_2 = mod_2.fit()\n",
    "print(res_2.summary())"
   ]
  },
  {
   "cell_type": "markdown",
   "metadata": {},
   "source": [
    "# Privacy & Ethnic Considerations"
   ]
  },
  {
   "cell_type": "markdown",
   "metadata": {},
   "source": [
    "# Conclusion & Discussion"
   ]
  },
  {
   "cell_type": "code",
   "execution_count": null,
   "metadata": {
    "collapsed": true
   },
   "outputs": [],
   "source": []
  }
 ],
 "metadata": {
  "kernelspec": {
   "display_name": "Python 3",
   "language": "python",
   "name": "python3"
  },
  "language_info": {
   "codemirror_mode": {
    "name": "ipython",
    "version": 3
   },
   "file_extension": ".py",
   "mimetype": "text/x-python",
   "name": "python",
   "nbconvert_exporter": "python",
   "pygments_lexer": "ipython3",
   "version": "3.6.3"
  }
 },
 "nbformat": 4,
 "nbformat_minor": 2
}
